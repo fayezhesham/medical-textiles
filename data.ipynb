{
 "cells": [
  {
   "cell_type": "code",
   "execution_count": 1,
   "metadata": {},
   "outputs": [],
   "source": [
    "import pandas as pd"
   ]
  },
  {
   "cell_type": "code",
   "execution_count": 2,
   "metadata": {},
   "outputs": [],
   "source": [
    "df = pd.read_csv('dummy_data.csv')"
   ]
  },
  {
   "cell_type": "code",
   "execution_count": 3,
   "metadata": {},
   "outputs": [
    {
     "data": {
      "text/html": [
       "<div>\n",
       "<style scoped>\n",
       "    .dataframe tbody tr th:only-of-type {\n",
       "        vertical-align: middle;\n",
       "    }\n",
       "\n",
       "    .dataframe tbody tr th {\n",
       "        vertical-align: top;\n",
       "    }\n",
       "\n",
       "    .dataframe thead th {\n",
       "        text-align: right;\n",
       "    }\n",
       "</style>\n",
       "<table border=\"1\" class=\"dataframe\">\n",
       "  <thead>\n",
       "    <tr style=\"text-align: right;\">\n",
       "      <th></th>\n",
       "      <th>Months</th>\n",
       "      <th>Processing Efficiency</th>\n",
       "      <th>ITEMS Processed</th>\n",
       "      <th>Cost per item</th>\n",
       "      <th>Single reference savings</th>\n",
       "      <th>Daily reference savings</th>\n",
       "      <th>Carbon Savings - Kg</th>\n",
       "      <th>Water Savings - Litres</th>\n",
       "      <th>Waste Savings - Kg</th>\n",
       "      <th>Item</th>\n",
       "    </tr>\n",
       "  </thead>\n",
       "  <tbody>\n",
       "    <tr>\n",
       "      <th>0</th>\n",
       "      <td>JANUARY</td>\n",
       "      <td>0.71</td>\n",
       "      <td>845.00</td>\n",
       "      <td>1.53</td>\n",
       "      <td>1.76</td>\n",
       "      <td>-118.27</td>\n",
       "      <td>863.87</td>\n",
       "      <td>862.96</td>\n",
       "      <td>189.73</td>\n",
       "      <td>Gowns</td>\n",
       "    </tr>\n",
       "    <tr>\n",
       "      <th>1</th>\n",
       "      <td>FEBRUARY</td>\n",
       "      <td>0.95</td>\n",
       "      <td>689.78</td>\n",
       "      <td>1.51</td>\n",
       "      <td>0.92</td>\n",
       "      <td>-104.31</td>\n",
       "      <td>956.65</td>\n",
       "      <td>789.56</td>\n",
       "      <td>303.65</td>\n",
       "      <td>Gowns</td>\n",
       "    </tr>\n",
       "    <tr>\n",
       "      <th>2</th>\n",
       "      <td>MARCH</td>\n",
       "      <td>0.70</td>\n",
       "      <td>610.34</td>\n",
       "      <td>2.09</td>\n",
       "      <td>-0.59</td>\n",
       "      <td>-360.67</td>\n",
       "      <td>658.56</td>\n",
       "      <td>556.63</td>\n",
       "      <td>137.94</td>\n",
       "      <td>Gowns</td>\n",
       "    </tr>\n",
       "    <tr>\n",
       "      <th>3</th>\n",
       "      <td>APRIL</td>\n",
       "      <td>0.75</td>\n",
       "      <td>778.50</td>\n",
       "      <td>1.64</td>\n",
       "      <td>-0.14</td>\n",
       "      <td>-108.44</td>\n",
       "      <td>840.00</td>\n",
       "      <td>709.99</td>\n",
       "      <td>175.94</td>\n",
       "      <td>Gowns</td>\n",
       "    </tr>\n",
       "    <tr>\n",
       "      <th>4</th>\n",
       "      <td>MAY</td>\n",
       "      <td>0.78</td>\n",
       "      <td>809.64</td>\n",
       "      <td>1.58</td>\n",
       "      <td>-0.08</td>\n",
       "      <td>-61.73</td>\n",
       "      <td>873.60</td>\n",
       "      <td>738.39</td>\n",
       "      <td>182.98</td>\n",
       "      <td>Gowns</td>\n",
       "    </tr>\n",
       "    <tr>\n",
       "      <th>5</th>\n",
       "      <td>JUNE</td>\n",
       "      <td>0.82</td>\n",
       "      <td>851.16</td>\n",
       "      <td>1.50</td>\n",
       "      <td>0.00</td>\n",
       "      <td>0.55</td>\n",
       "      <td>918.40</td>\n",
       "      <td>776.26</td>\n",
       "      <td>192.36</td>\n",
       "      <td>Gowns</td>\n",
       "    </tr>\n",
       "    <tr>\n",
       "      <th>6</th>\n",
       "      <td>JULY</td>\n",
       "      <td>0.77</td>\n",
       "      <td>799.26</td>\n",
       "      <td>1.60</td>\n",
       "      <td>-0.10</td>\n",
       "      <td>-77.30</td>\n",
       "      <td>862.40</td>\n",
       "      <td>728.93</td>\n",
       "      <td>180.63</td>\n",
       "      <td>Gowns</td>\n",
       "    </tr>\n",
       "    <tr>\n",
       "      <th>7</th>\n",
       "      <td>AUGUST</td>\n",
       "      <td>0.84</td>\n",
       "      <td>871.92</td>\n",
       "      <td>1.46</td>\n",
       "      <td>0.04</td>\n",
       "      <td>31.69</td>\n",
       "      <td>940.80</td>\n",
       "      <td>795.19</td>\n",
       "      <td>197.05</td>\n",
       "      <td>Gowns</td>\n",
       "    </tr>\n",
       "    <tr>\n",
       "      <th>8</th>\n",
       "      <td>SEPTEMBER</td>\n",
       "      <td>0.86</td>\n",
       "      <td>892.68</td>\n",
       "      <td>1.43</td>\n",
       "      <td>0.07</td>\n",
       "      <td>62.83</td>\n",
       "      <td>963.20</td>\n",
       "      <td>814.12</td>\n",
       "      <td>201.75</td>\n",
       "      <td>Gowns</td>\n",
       "    </tr>\n",
       "    <tr>\n",
       "      <th>9</th>\n",
       "      <td>OCTOBER</td>\n",
       "      <td>0.83</td>\n",
       "      <td>861.54</td>\n",
       "      <td>1.48</td>\n",
       "      <td>0.02</td>\n",
       "      <td>16.12</td>\n",
       "      <td>929.60</td>\n",
       "      <td>785.72</td>\n",
       "      <td>194.71</td>\n",
       "      <td>Gowns</td>\n",
       "    </tr>\n",
       "    <tr>\n",
       "      <th>10</th>\n",
       "      <td>NOVEMBER</td>\n",
       "      <td>0.79</td>\n",
       "      <td>647.26</td>\n",
       "      <td>2.73</td>\n",
       "      <td>0.40</td>\n",
       "      <td>-94.15</td>\n",
       "      <td>837.09</td>\n",
       "      <td>883.80</td>\n",
       "      <td>130.92</td>\n",
       "      <td>Gowns</td>\n",
       "    </tr>\n",
       "    <tr>\n",
       "      <th>11</th>\n",
       "      <td>DECEMBER</td>\n",
       "      <td>0.93</td>\n",
       "      <td>816.62</td>\n",
       "      <td>3.66</td>\n",
       "      <td>0.55</td>\n",
       "      <td>32.28</td>\n",
       "      <td>904.61</td>\n",
       "      <td>772.44</td>\n",
       "      <td>246.34</td>\n",
       "      <td>Gowns</td>\n",
       "    </tr>\n",
       "    <tr>\n",
       "      <th>12</th>\n",
       "      <td>JANUARY</td>\n",
       "      <td>0.74</td>\n",
       "      <td>675.68</td>\n",
       "      <td>1.83</td>\n",
       "      <td>1.99</td>\n",
       "      <td>31.05</td>\n",
       "      <td>853.90</td>\n",
       "      <td>765.89</td>\n",
       "      <td>343.77</td>\n",
       "      <td>Drapes</td>\n",
       "    </tr>\n",
       "    <tr>\n",
       "      <th>13</th>\n",
       "      <td>FEBRUARY</td>\n",
       "      <td>0.72</td>\n",
       "      <td>863.62</td>\n",
       "      <td>1.81</td>\n",
       "      <td>2.08</td>\n",
       "      <td>-58.11</td>\n",
       "      <td>841.69</td>\n",
       "      <td>813.33</td>\n",
       "      <td>148.28</td>\n",
       "      <td>Drapes</td>\n",
       "    </tr>\n",
       "    <tr>\n",
       "      <th>14</th>\n",
       "      <td>MARCH</td>\n",
       "      <td>0.87</td>\n",
       "      <td>682.71</td>\n",
       "      <td>2.51</td>\n",
       "      <td>-0.87</td>\n",
       "      <td>-94.13</td>\n",
       "      <td>728.02</td>\n",
       "      <td>954.92</td>\n",
       "      <td>195.59</td>\n",
       "      <td>Drapes</td>\n",
       "    </tr>\n",
       "    <tr>\n",
       "      <th>15</th>\n",
       "      <td>APRIL</td>\n",
       "      <td>0.95</td>\n",
       "      <td>625.75</td>\n",
       "      <td>1.97</td>\n",
       "      <td>0.69</td>\n",
       "      <td>13.37</td>\n",
       "      <td>866.61</td>\n",
       "      <td>818.24</td>\n",
       "      <td>139.79</td>\n",
       "      <td>Drapes</td>\n",
       "    </tr>\n",
       "    <tr>\n",
       "      <th>16</th>\n",
       "      <td>MAY</td>\n",
       "      <td>0.71</td>\n",
       "      <td>853.58</td>\n",
       "      <td>1.89</td>\n",
       "      <td>1.28</td>\n",
       "      <td>-50.59</td>\n",
       "      <td>870.50</td>\n",
       "      <td>870.62</td>\n",
       "      <td>204.56</td>\n",
       "      <td>Drapes</td>\n",
       "    </tr>\n",
       "    <tr>\n",
       "      <th>17</th>\n",
       "      <td>JUNE</td>\n",
       "      <td>0.81</td>\n",
       "      <td>664.03</td>\n",
       "      <td>1.80</td>\n",
       "      <td>0.56</td>\n",
       "      <td>-102.62</td>\n",
       "      <td>700.54</td>\n",
       "      <td>951.21</td>\n",
       "      <td>115.90</td>\n",
       "      <td>Drapes</td>\n",
       "    </tr>\n",
       "    <tr>\n",
       "      <th>18</th>\n",
       "      <td>JULY</td>\n",
       "      <td>0.97</td>\n",
       "      <td>729.18</td>\n",
       "      <td>1.92</td>\n",
       "      <td>1.88</td>\n",
       "      <td>42.68</td>\n",
       "      <td>880.75</td>\n",
       "      <td>717.62</td>\n",
       "      <td>103.44</td>\n",
       "      <td>Drapes</td>\n",
       "    </tr>\n",
       "    <tr>\n",
       "      <th>19</th>\n",
       "      <td>AUGUST</td>\n",
       "      <td>0.86</td>\n",
       "      <td>890.72</td>\n",
       "      <td>1.76</td>\n",
       "      <td>2.09</td>\n",
       "      <td>29.20</td>\n",
       "      <td>777.79</td>\n",
       "      <td>712.90</td>\n",
       "      <td>287.74</td>\n",
       "      <td>Drapes</td>\n",
       "    </tr>\n",
       "    <tr>\n",
       "      <th>20</th>\n",
       "      <td>SEPTEMBER</td>\n",
       "      <td>0.73</td>\n",
       "      <td>682.54</td>\n",
       "      <td>1.72</td>\n",
       "      <td>1.66</td>\n",
       "      <td>42.70</td>\n",
       "      <td>793.43</td>\n",
       "      <td>910.77</td>\n",
       "      <td>136.76</td>\n",
       "      <td>Drapes</td>\n",
       "    </tr>\n",
       "    <tr>\n",
       "      <th>21</th>\n",
       "      <td>OCTOBER</td>\n",
       "      <td>0.76</td>\n",
       "      <td>884.77</td>\n",
       "      <td>1.78</td>\n",
       "      <td>1.82</td>\n",
       "      <td>-78.59</td>\n",
       "      <td>725.09</td>\n",
       "      <td>839.77</td>\n",
       "      <td>306.67</td>\n",
       "      <td>Drapes</td>\n",
       "    </tr>\n",
       "    <tr>\n",
       "      <th>22</th>\n",
       "      <td>NOVEMBER</td>\n",
       "      <td>0.82</td>\n",
       "      <td>738.27</td>\n",
       "      <td>3.28</td>\n",
       "      <td>0.05</td>\n",
       "      <td>37.89</td>\n",
       "      <td>817.72</td>\n",
       "      <td>817.27</td>\n",
       "      <td>222.23</td>\n",
       "      <td>Drapes</td>\n",
       "    </tr>\n",
       "    <tr>\n",
       "      <th>23</th>\n",
       "      <td>DECEMBER</td>\n",
       "      <td>0.88</td>\n",
       "      <td>783.03</td>\n",
       "      <td>4.39</td>\n",
       "      <td>-0.03</td>\n",
       "      <td>45.09</td>\n",
       "      <td>741.97</td>\n",
       "      <td>791.35</td>\n",
       "      <td>257.11</td>\n",
       "      <td>Drapes</td>\n",
       "    </tr>\n",
       "    <tr>\n",
       "      <th>24</th>\n",
       "      <td>JANUARY</td>\n",
       "      <td>0.75</td>\n",
       "      <td>885.52</td>\n",
       "      <td>0.92</td>\n",
       "      <td>0.49</td>\n",
       "      <td>-59.50</td>\n",
       "      <td>922.17</td>\n",
       "      <td>848.25</td>\n",
       "      <td>248.50</td>\n",
       "      <td>Aprons</td>\n",
       "    </tr>\n",
       "    <tr>\n",
       "      <th>25</th>\n",
       "      <td>FEBRUARY</td>\n",
       "      <td>0.98</td>\n",
       "      <td>711.76</td>\n",
       "      <td>0.90</td>\n",
       "      <td>0.23</td>\n",
       "      <td>-31.07</td>\n",
       "      <td>925.36</td>\n",
       "      <td>924.04</td>\n",
       "      <td>352.66</td>\n",
       "      <td>Aprons</td>\n",
       "    </tr>\n",
       "    <tr>\n",
       "      <th>26</th>\n",
       "      <td>MARCH</td>\n",
       "      <td>0.98</td>\n",
       "      <td>896.78</td>\n",
       "      <td>1.25</td>\n",
       "      <td>-0.17</td>\n",
       "      <td>-93.30</td>\n",
       "      <td>735.73</td>\n",
       "      <td>863.32</td>\n",
       "      <td>268.06</td>\n",
       "      <td>Aprons</td>\n",
       "    </tr>\n",
       "    <tr>\n",
       "      <th>27</th>\n",
       "      <td>APRIL</td>\n",
       "      <td>0.74</td>\n",
       "      <td>833.59</td>\n",
       "      <td>0.98</td>\n",
       "      <td>1.12</td>\n",
       "      <td>-136.17</td>\n",
       "      <td>924.20</td>\n",
       "      <td>879.55</td>\n",
       "      <td>275.86</td>\n",
       "      <td>Aprons</td>\n",
       "    </tr>\n",
       "    <tr>\n",
       "      <th>28</th>\n",
       "      <td>MAY</td>\n",
       "      <td>0.97</td>\n",
       "      <td>645.97</td>\n",
       "      <td>0.95</td>\n",
       "      <td>0.64</td>\n",
       "      <td>47.74</td>\n",
       "      <td>786.99</td>\n",
       "      <td>709.02</td>\n",
       "      <td>308.55</td>\n",
       "      <td>Aprons</td>\n",
       "    </tr>\n",
       "    <tr>\n",
       "      <th>29</th>\n",
       "      <td>JUNE</td>\n",
       "      <td>0.90</td>\n",
       "      <td>815.48</td>\n",
       "      <td>0.90</td>\n",
       "      <td>1.60</td>\n",
       "      <td>-93.15</td>\n",
       "      <td>791.81</td>\n",
       "      <td>747.40</td>\n",
       "      <td>266.79</td>\n",
       "      <td>Aprons</td>\n",
       "    </tr>\n",
       "    <tr>\n",
       "      <th>30</th>\n",
       "      <td>JULY</td>\n",
       "      <td>0.72</td>\n",
       "      <td>871.56</td>\n",
       "      <td>0.96</td>\n",
       "      <td>-0.47</td>\n",
       "      <td>-74.27</td>\n",
       "      <td>741.59</td>\n",
       "      <td>700.98</td>\n",
       "      <td>292.68</td>\n",
       "      <td>Aprons</td>\n",
       "    </tr>\n",
       "    <tr>\n",
       "      <th>31</th>\n",
       "      <td>AUGUST</td>\n",
       "      <td>0.77</td>\n",
       "      <td>800.30</td>\n",
       "      <td>0.88</td>\n",
       "      <td>1.09</td>\n",
       "      <td>-114.18</td>\n",
       "      <td>798.51</td>\n",
       "      <td>777.24</td>\n",
       "      <td>183.31</td>\n",
       "      <td>Aprons</td>\n",
       "    </tr>\n",
       "    <tr>\n",
       "      <th>32</th>\n",
       "      <td>SEPTEMBER</td>\n",
       "      <td>0.91</td>\n",
       "      <td>867.42</td>\n",
       "      <td>0.86</td>\n",
       "      <td>0.25</td>\n",
       "      <td>-87.89</td>\n",
       "      <td>740.16</td>\n",
       "      <td>899.96</td>\n",
       "      <td>130.01</td>\n",
       "      <td>Aprons</td>\n",
       "    </tr>\n",
       "    <tr>\n",
       "      <th>33</th>\n",
       "      <td>OCTOBER</td>\n",
       "      <td>0.86</td>\n",
       "      <td>634.63</td>\n",
       "      <td>0.89</td>\n",
       "      <td>0.90</td>\n",
       "      <td>-123.15</td>\n",
       "      <td>878.30</td>\n",
       "      <td>714.47</td>\n",
       "      <td>150.06</td>\n",
       "      <td>Aprons</td>\n",
       "    </tr>\n",
       "    <tr>\n",
       "      <th>34</th>\n",
       "      <td>NOVEMBER</td>\n",
       "      <td>0.73</td>\n",
       "      <td>904.44</td>\n",
       "      <td>1.64</td>\n",
       "      <td>-0.07</td>\n",
       "      <td>-59.19</td>\n",
       "      <td>840.23</td>\n",
       "      <td>844.77</td>\n",
       "      <td>279.74</td>\n",
       "      <td>Aprons</td>\n",
       "    </tr>\n",
       "    <tr>\n",
       "      <th>35</th>\n",
       "      <td>DECEMBER</td>\n",
       "      <td>0.79</td>\n",
       "      <td>603.20</td>\n",
       "      <td>2.20</td>\n",
       "      <td>0.79</td>\n",
       "      <td>-41.87</td>\n",
       "      <td>741.06</td>\n",
       "      <td>849.67</td>\n",
       "      <td>310.58</td>\n",
       "      <td>Aprons</td>\n",
       "    </tr>\n",
       "    <tr>\n",
       "      <th>36</th>\n",
       "      <td>JANUARY</td>\n",
       "      <td>0.80</td>\n",
       "      <td>687.65</td>\n",
       "      <td>0.02</td>\n",
       "      <td>-0.76</td>\n",
       "      <td>-81.79</td>\n",
       "      <td>741.68</td>\n",
       "      <td>707.50</td>\n",
       "      <td>333.63</td>\n",
       "      <td>Masks</td>\n",
       "    </tr>\n",
       "    <tr>\n",
       "      <th>37</th>\n",
       "      <td>FEBRUARY</td>\n",
       "      <td>0.88</td>\n",
       "      <td>720.71</td>\n",
       "      <td>0.02</td>\n",
       "      <td>1.77</td>\n",
       "      <td>-130.53</td>\n",
       "      <td>933.10</td>\n",
       "      <td>720.45</td>\n",
       "      <td>311.87</td>\n",
       "      <td>Masks</td>\n",
       "    </tr>\n",
       "    <tr>\n",
       "      <th>38</th>\n",
       "      <td>MARCH</td>\n",
       "      <td>0.91</td>\n",
       "      <td>693.08</td>\n",
       "      <td>0.03</td>\n",
       "      <td>0.34</td>\n",
       "      <td>-75.31</td>\n",
       "      <td>765.73</td>\n",
       "      <td>831.89</td>\n",
       "      <td>272.81</td>\n",
       "      <td>Masks</td>\n",
       "    </tr>\n",
       "    <tr>\n",
       "      <th>39</th>\n",
       "      <td>APRIL</td>\n",
       "      <td>0.93</td>\n",
       "      <td>838.32</td>\n",
       "      <td>0.02</td>\n",
       "      <td>-0.65</td>\n",
       "      <td>-124.99</td>\n",
       "      <td>853.13</td>\n",
       "      <td>816.70</td>\n",
       "      <td>310.56</td>\n",
       "      <td>Masks</td>\n",
       "    </tr>\n",
       "    <tr>\n",
       "      <th>40</th>\n",
       "      <td>MAY</td>\n",
       "      <td>0.80</td>\n",
       "      <td>755.93</td>\n",
       "      <td>0.02</td>\n",
       "      <td>1.99</td>\n",
       "      <td>-8.39</td>\n",
       "      <td>849.18</td>\n",
       "      <td>855.84</td>\n",
       "      <td>147.66</td>\n",
       "      <td>Masks</td>\n",
       "    </tr>\n",
       "    <tr>\n",
       "      <th>41</th>\n",
       "      <td>JUNE</td>\n",
       "      <td>0.86</td>\n",
       "      <td>863.48</td>\n",
       "      <td>0.02</td>\n",
       "      <td>-0.66</td>\n",
       "      <td>-108.61</td>\n",
       "      <td>763.42</td>\n",
       "      <td>759.00</td>\n",
       "      <td>197.61</td>\n",
       "      <td>Masks</td>\n",
       "    </tr>\n",
       "    <tr>\n",
       "      <th>42</th>\n",
       "      <td>JULY</td>\n",
       "      <td>0.98</td>\n",
       "      <td>847.36</td>\n",
       "      <td>0.02</td>\n",
       "      <td>1.03</td>\n",
       "      <td>46.14</td>\n",
       "      <td>938.49</td>\n",
       "      <td>891.87</td>\n",
       "      <td>240.70</td>\n",
       "      <td>Masks</td>\n",
       "    </tr>\n",
       "    <tr>\n",
       "      <th>43</th>\n",
       "      <td>AUGUST</td>\n",
       "      <td>0.81</td>\n",
       "      <td>799.50</td>\n",
       "      <td>0.02</td>\n",
       "      <td>-0.07</td>\n",
       "      <td>-90.21</td>\n",
       "      <td>954.93</td>\n",
       "      <td>823.58</td>\n",
       "      <td>154.45</td>\n",
       "      <td>Masks</td>\n",
       "    </tr>\n",
       "    <tr>\n",
       "      <th>44</th>\n",
       "      <td>SEPTEMBER</td>\n",
       "      <td>0.83</td>\n",
       "      <td>850.73</td>\n",
       "      <td>0.02</td>\n",
       "      <td>-0.76</td>\n",
       "      <td>-54.45</td>\n",
       "      <td>904.15</td>\n",
       "      <td>811.67</td>\n",
       "      <td>184.97</td>\n",
       "      <td>Masks</td>\n",
       "    </tr>\n",
       "    <tr>\n",
       "      <th>45</th>\n",
       "      <td>OCTOBER</td>\n",
       "      <td>0.72</td>\n",
       "      <td>796.66</td>\n",
       "      <td>0.02</td>\n",
       "      <td>-0.41</td>\n",
       "      <td>-37.20</td>\n",
       "      <td>931.55</td>\n",
       "      <td>888.21</td>\n",
       "      <td>193.55</td>\n",
       "      <td>Masks</td>\n",
       "    </tr>\n",
       "    <tr>\n",
       "      <th>46</th>\n",
       "      <td>NOVEMBER</td>\n",
       "      <td>0.70</td>\n",
       "      <td>636.59</td>\n",
       "      <td>0.03</td>\n",
       "      <td>-0.64</td>\n",
       "      <td>-2.31</td>\n",
       "      <td>891.26</td>\n",
       "      <td>951.09</td>\n",
       "      <td>186.00</td>\n",
       "      <td>Masks</td>\n",
       "    </tr>\n",
       "    <tr>\n",
       "      <th>47</th>\n",
       "      <td>DECEMBER</td>\n",
       "      <td>0.74</td>\n",
       "      <td>893.48</td>\n",
       "      <td>0.04</td>\n",
       "      <td>0.37</td>\n",
       "      <td>-106.59</td>\n",
       "      <td>884.59</td>\n",
       "      <td>752.00</td>\n",
       "      <td>256.74</td>\n",
       "      <td>Masks</td>\n",
       "    </tr>\n",
       "  </tbody>\n",
       "</table>\n",
       "</div>"
      ],
      "text/plain": [
       "       Months  Processing Efficiency  ITEMS Processed  Cost per item  \\\n",
       "0     JANUARY                   0.71           845.00           1.53   \n",
       "1    FEBRUARY                   0.95           689.78           1.51   \n",
       "2       MARCH                   0.70           610.34           2.09   \n",
       "3       APRIL                   0.75           778.50           1.64   \n",
       "4         MAY                   0.78           809.64           1.58   \n",
       "5        JUNE                   0.82           851.16           1.50   \n",
       "6        JULY                   0.77           799.26           1.60   \n",
       "7      AUGUST                   0.84           871.92           1.46   \n",
       "8   SEPTEMBER                   0.86           892.68           1.43   \n",
       "9     OCTOBER                   0.83           861.54           1.48   \n",
       "10   NOVEMBER                   0.79           647.26           2.73   \n",
       "11   DECEMBER                   0.93           816.62           3.66   \n",
       "12    JANUARY                   0.74           675.68           1.83   \n",
       "13   FEBRUARY                   0.72           863.62           1.81   \n",
       "14      MARCH                   0.87           682.71           2.51   \n",
       "15      APRIL                   0.95           625.75           1.97   \n",
       "16        MAY                   0.71           853.58           1.89   \n",
       "17       JUNE                   0.81           664.03           1.80   \n",
       "18       JULY                   0.97           729.18           1.92   \n",
       "19     AUGUST                   0.86           890.72           1.76   \n",
       "20  SEPTEMBER                   0.73           682.54           1.72   \n",
       "21    OCTOBER                   0.76           884.77           1.78   \n",
       "22   NOVEMBER                   0.82           738.27           3.28   \n",
       "23   DECEMBER                   0.88           783.03           4.39   \n",
       "24    JANUARY                   0.75           885.52           0.92   \n",
       "25   FEBRUARY                   0.98           711.76           0.90   \n",
       "26      MARCH                   0.98           896.78           1.25   \n",
       "27      APRIL                   0.74           833.59           0.98   \n",
       "28        MAY                   0.97           645.97           0.95   \n",
       "29       JUNE                   0.90           815.48           0.90   \n",
       "30       JULY                   0.72           871.56           0.96   \n",
       "31     AUGUST                   0.77           800.30           0.88   \n",
       "32  SEPTEMBER                   0.91           867.42           0.86   \n",
       "33    OCTOBER                   0.86           634.63           0.89   \n",
       "34   NOVEMBER                   0.73           904.44           1.64   \n",
       "35   DECEMBER                   0.79           603.20           2.20   \n",
       "36    JANUARY                   0.80           687.65           0.02   \n",
       "37   FEBRUARY                   0.88           720.71           0.02   \n",
       "38      MARCH                   0.91           693.08           0.03   \n",
       "39      APRIL                   0.93           838.32           0.02   \n",
       "40        MAY                   0.80           755.93           0.02   \n",
       "41       JUNE                   0.86           863.48           0.02   \n",
       "42       JULY                   0.98           847.36           0.02   \n",
       "43     AUGUST                   0.81           799.50           0.02   \n",
       "44  SEPTEMBER                   0.83           850.73           0.02   \n",
       "45    OCTOBER                   0.72           796.66           0.02   \n",
       "46   NOVEMBER                   0.70           636.59           0.03   \n",
       "47   DECEMBER                   0.74           893.48           0.04   \n",
       "\n",
       "    Single reference savings   Daily reference savings   Carbon Savings - Kg  \\\n",
       "0                        1.76                   -118.27               863.87   \n",
       "1                        0.92                   -104.31               956.65   \n",
       "2                       -0.59                   -360.67               658.56   \n",
       "3                       -0.14                   -108.44               840.00   \n",
       "4                       -0.08                    -61.73               873.60   \n",
       "5                        0.00                      0.55               918.40   \n",
       "6                       -0.10                    -77.30               862.40   \n",
       "7                        0.04                     31.69               940.80   \n",
       "8                        0.07                     62.83               963.20   \n",
       "9                        0.02                     16.12               929.60   \n",
       "10                       0.40                    -94.15               837.09   \n",
       "11                       0.55                     32.28               904.61   \n",
       "12                       1.99                     31.05               853.90   \n",
       "13                       2.08                    -58.11               841.69   \n",
       "14                      -0.87                    -94.13               728.02   \n",
       "15                       0.69                     13.37               866.61   \n",
       "16                       1.28                    -50.59               870.50   \n",
       "17                       0.56                   -102.62               700.54   \n",
       "18                       1.88                     42.68               880.75   \n",
       "19                       2.09                     29.20               777.79   \n",
       "20                       1.66                     42.70               793.43   \n",
       "21                       1.82                    -78.59               725.09   \n",
       "22                       0.05                     37.89               817.72   \n",
       "23                      -0.03                     45.09               741.97   \n",
       "24                       0.49                    -59.50               922.17   \n",
       "25                       0.23                    -31.07               925.36   \n",
       "26                      -0.17                    -93.30               735.73   \n",
       "27                       1.12                   -136.17               924.20   \n",
       "28                       0.64                     47.74               786.99   \n",
       "29                       1.60                    -93.15               791.81   \n",
       "30                      -0.47                    -74.27               741.59   \n",
       "31                       1.09                   -114.18               798.51   \n",
       "32                       0.25                    -87.89               740.16   \n",
       "33                       0.90                   -123.15               878.30   \n",
       "34                      -0.07                    -59.19               840.23   \n",
       "35                       0.79                    -41.87               741.06   \n",
       "36                      -0.76                    -81.79               741.68   \n",
       "37                       1.77                   -130.53               933.10   \n",
       "38                       0.34                    -75.31               765.73   \n",
       "39                      -0.65                   -124.99               853.13   \n",
       "40                       1.99                     -8.39               849.18   \n",
       "41                      -0.66                   -108.61               763.42   \n",
       "42                       1.03                     46.14               938.49   \n",
       "43                      -0.07                    -90.21               954.93   \n",
       "44                      -0.76                    -54.45               904.15   \n",
       "45                      -0.41                    -37.20               931.55   \n",
       "46                      -0.64                     -2.31               891.26   \n",
       "47                       0.37                   -106.59               884.59   \n",
       "\n",
       "    Water Savings - Litres  Waste Savings - Kg    Item  \n",
       "0                   862.96              189.73   Gowns  \n",
       "1                   789.56              303.65   Gowns  \n",
       "2                   556.63              137.94   Gowns  \n",
       "3                   709.99              175.94   Gowns  \n",
       "4                   738.39              182.98   Gowns  \n",
       "5                   776.26              192.36   Gowns  \n",
       "6                   728.93              180.63   Gowns  \n",
       "7                   795.19              197.05   Gowns  \n",
       "8                   814.12              201.75   Gowns  \n",
       "9                   785.72              194.71   Gowns  \n",
       "10                  883.80              130.92   Gowns  \n",
       "11                  772.44              246.34   Gowns  \n",
       "12                  765.89              343.77  Drapes  \n",
       "13                  813.33              148.28  Drapes  \n",
       "14                  954.92              195.59  Drapes  \n",
       "15                  818.24              139.79  Drapes  \n",
       "16                  870.62              204.56  Drapes  \n",
       "17                  951.21              115.90  Drapes  \n",
       "18                  717.62              103.44  Drapes  \n",
       "19                  712.90              287.74  Drapes  \n",
       "20                  910.77              136.76  Drapes  \n",
       "21                  839.77              306.67  Drapes  \n",
       "22                  817.27              222.23  Drapes  \n",
       "23                  791.35              257.11  Drapes  \n",
       "24                  848.25              248.50  Aprons  \n",
       "25                  924.04              352.66  Aprons  \n",
       "26                  863.32              268.06  Aprons  \n",
       "27                  879.55              275.86  Aprons  \n",
       "28                  709.02              308.55  Aprons  \n",
       "29                  747.40              266.79  Aprons  \n",
       "30                  700.98              292.68  Aprons  \n",
       "31                  777.24              183.31  Aprons  \n",
       "32                  899.96              130.01  Aprons  \n",
       "33                  714.47              150.06  Aprons  \n",
       "34                  844.77              279.74  Aprons  \n",
       "35                  849.67              310.58  Aprons  \n",
       "36                  707.50              333.63   Masks  \n",
       "37                  720.45              311.87   Masks  \n",
       "38                  831.89              272.81   Masks  \n",
       "39                  816.70              310.56   Masks  \n",
       "40                  855.84              147.66   Masks  \n",
       "41                  759.00              197.61   Masks  \n",
       "42                  891.87              240.70   Masks  \n",
       "43                  823.58              154.45   Masks  \n",
       "44                  811.67              184.97   Masks  \n",
       "45                  888.21              193.55   Masks  \n",
       "46                  951.09              186.00   Masks  \n",
       "47                  752.00              256.74   Masks  "
      ]
     },
     "execution_count": 3,
     "metadata": {},
     "output_type": "execute_result"
    }
   ],
   "source": [
    "df"
   ]
  },
  {
   "cell_type": "code",
   "execution_count": 4,
   "metadata": {},
   "outputs": [],
   "source": [
    "dff = df[['Months', 'Carbon Savings - Kg', 'Water Savings - Litres', 'Waste Savings - Kg']]"
   ]
  },
  {
   "cell_type": "code",
   "execution_count": 5,
   "metadata": {},
   "outputs": [],
   "source": [
    "dff = dff.groupby('Months', as_index = False).sum()"
   ]
  },
  {
   "cell_type": "code",
   "execution_count": 6,
   "metadata": {},
   "outputs": [],
   "source": [
    "month_dict = {\"JANUARY\": 1,\n",
    "              \"FEBRUARY\": 2,\n",
    "              \"MARCH\": 3,\n",
    "              \"APRIL\": 4,\n",
    "              \"MAY\": 5,\n",
    "              \"JUNE\": 6,\n",
    "              \"JULY\": 7,\n",
    "              \"AUGUST\": 8,\n",
    "              \"SEPTEMBER\": 9,\n",
    "              \"OCTOBER\": 10,\n",
    "              \"NOVEMBER\": 11,\n",
    "              \"DECEMBER\": 12}"
   ]
  },
  {
   "cell_type": "code",
   "execution_count": 7,
   "metadata": {},
   "outputs": [],
   "source": [
    "dff['month_numeric'] = dff['Months'].map(month_dict)"
   ]
  },
  {
   "cell_type": "code",
   "execution_count": 8,
   "metadata": {},
   "outputs": [],
   "source": [
    "dff = dff.sort_values('month_numeric')"
   ]
  },
  {
   "cell_type": "code",
   "execution_count": 9,
   "metadata": {},
   "outputs": [],
   "source": [
    "dff = dff.melt(id_vars = 'Months', value_vars=list(dff.columns[1:]))"
   ]
  },
  {
   "cell_type": "code",
   "execution_count": 10,
   "metadata": {},
   "outputs": [
    {
     "data": {
      "text/html": [
       "<div>\n",
       "<style scoped>\n",
       "    .dataframe tbody tr th:only-of-type {\n",
       "        vertical-align: middle;\n",
       "    }\n",
       "\n",
       "    .dataframe tbody tr th {\n",
       "        vertical-align: top;\n",
       "    }\n",
       "\n",
       "    .dataframe thead th {\n",
       "        text-align: right;\n",
       "    }\n",
       "</style>\n",
       "<table border=\"1\" class=\"dataframe\">\n",
       "  <thead>\n",
       "    <tr style=\"text-align: right;\">\n",
       "      <th></th>\n",
       "      <th>Months</th>\n",
       "      <th>variable</th>\n",
       "      <th>value</th>\n",
       "    </tr>\n",
       "  </thead>\n",
       "  <tbody>\n",
       "    <tr>\n",
       "      <th>0</th>\n",
       "      <td>JANUARY</td>\n",
       "      <td>Carbon Savings - Kg</td>\n",
       "      <td>3381.62</td>\n",
       "    </tr>\n",
       "    <tr>\n",
       "      <th>1</th>\n",
       "      <td>FEBRUARY</td>\n",
       "      <td>Carbon Savings - Kg</td>\n",
       "      <td>3656.80</td>\n",
       "    </tr>\n",
       "    <tr>\n",
       "      <th>2</th>\n",
       "      <td>MARCH</td>\n",
       "      <td>Carbon Savings - Kg</td>\n",
       "      <td>2888.04</td>\n",
       "    </tr>\n",
       "    <tr>\n",
       "      <th>3</th>\n",
       "      <td>APRIL</td>\n",
       "      <td>Carbon Savings - Kg</td>\n",
       "      <td>3483.94</td>\n",
       "    </tr>\n",
       "    <tr>\n",
       "      <th>4</th>\n",
       "      <td>MAY</td>\n",
       "      <td>Carbon Savings - Kg</td>\n",
       "      <td>3380.27</td>\n",
       "    </tr>\n",
       "    <tr>\n",
       "      <th>5</th>\n",
       "      <td>JUNE</td>\n",
       "      <td>Carbon Savings - Kg</td>\n",
       "      <td>3174.17</td>\n",
       "    </tr>\n",
       "    <tr>\n",
       "      <th>6</th>\n",
       "      <td>JULY</td>\n",
       "      <td>Carbon Savings - Kg</td>\n",
       "      <td>3423.23</td>\n",
       "    </tr>\n",
       "    <tr>\n",
       "      <th>7</th>\n",
       "      <td>AUGUST</td>\n",
       "      <td>Carbon Savings - Kg</td>\n",
       "      <td>3472.03</td>\n",
       "    </tr>\n",
       "    <tr>\n",
       "      <th>8</th>\n",
       "      <td>SEPTEMBER</td>\n",
       "      <td>Carbon Savings - Kg</td>\n",
       "      <td>3400.94</td>\n",
       "    </tr>\n",
       "    <tr>\n",
       "      <th>9</th>\n",
       "      <td>OCTOBER</td>\n",
       "      <td>Carbon Savings - Kg</td>\n",
       "      <td>3464.54</td>\n",
       "    </tr>\n",
       "    <tr>\n",
       "      <th>10</th>\n",
       "      <td>NOVEMBER</td>\n",
       "      <td>Carbon Savings - Kg</td>\n",
       "      <td>3386.30</td>\n",
       "    </tr>\n",
       "    <tr>\n",
       "      <th>11</th>\n",
       "      <td>DECEMBER</td>\n",
       "      <td>Carbon Savings - Kg</td>\n",
       "      <td>3272.23</td>\n",
       "    </tr>\n",
       "    <tr>\n",
       "      <th>12</th>\n",
       "      <td>JANUARY</td>\n",
       "      <td>Water Savings - Litres</td>\n",
       "      <td>3184.60</td>\n",
       "    </tr>\n",
       "    <tr>\n",
       "      <th>13</th>\n",
       "      <td>FEBRUARY</td>\n",
       "      <td>Water Savings - Litres</td>\n",
       "      <td>3247.38</td>\n",
       "    </tr>\n",
       "    <tr>\n",
       "      <th>14</th>\n",
       "      <td>MARCH</td>\n",
       "      <td>Water Savings - Litres</td>\n",
       "      <td>3206.76</td>\n",
       "    </tr>\n",
       "    <tr>\n",
       "      <th>15</th>\n",
       "      <td>APRIL</td>\n",
       "      <td>Water Savings - Litres</td>\n",
       "      <td>3224.48</td>\n",
       "    </tr>\n",
       "    <tr>\n",
       "      <th>16</th>\n",
       "      <td>MAY</td>\n",
       "      <td>Water Savings - Litres</td>\n",
       "      <td>3173.87</td>\n",
       "    </tr>\n",
       "    <tr>\n",
       "      <th>17</th>\n",
       "      <td>JUNE</td>\n",
       "      <td>Water Savings - Litres</td>\n",
       "      <td>3233.87</td>\n",
       "    </tr>\n",
       "    <tr>\n",
       "      <th>18</th>\n",
       "      <td>JULY</td>\n",
       "      <td>Water Savings - Litres</td>\n",
       "      <td>3039.40</td>\n",
       "    </tr>\n",
       "    <tr>\n",
       "      <th>19</th>\n",
       "      <td>AUGUST</td>\n",
       "      <td>Water Savings - Litres</td>\n",
       "      <td>3108.91</td>\n",
       "    </tr>\n",
       "    <tr>\n",
       "      <th>20</th>\n",
       "      <td>SEPTEMBER</td>\n",
       "      <td>Water Savings - Litres</td>\n",
       "      <td>3436.52</td>\n",
       "    </tr>\n",
       "    <tr>\n",
       "      <th>21</th>\n",
       "      <td>OCTOBER</td>\n",
       "      <td>Water Savings - Litres</td>\n",
       "      <td>3228.17</td>\n",
       "    </tr>\n",
       "    <tr>\n",
       "      <th>22</th>\n",
       "      <td>NOVEMBER</td>\n",
       "      <td>Water Savings - Litres</td>\n",
       "      <td>3496.93</td>\n",
       "    </tr>\n",
       "    <tr>\n",
       "      <th>23</th>\n",
       "      <td>DECEMBER</td>\n",
       "      <td>Water Savings - Litres</td>\n",
       "      <td>3165.46</td>\n",
       "    </tr>\n",
       "    <tr>\n",
       "      <th>24</th>\n",
       "      <td>JANUARY</td>\n",
       "      <td>Waste Savings - Kg</td>\n",
       "      <td>1115.63</td>\n",
       "    </tr>\n",
       "    <tr>\n",
       "      <th>25</th>\n",
       "      <td>FEBRUARY</td>\n",
       "      <td>Waste Savings - Kg</td>\n",
       "      <td>1116.46</td>\n",
       "    </tr>\n",
       "    <tr>\n",
       "      <th>26</th>\n",
       "      <td>MARCH</td>\n",
       "      <td>Waste Savings - Kg</td>\n",
       "      <td>874.40</td>\n",
       "    </tr>\n",
       "    <tr>\n",
       "      <th>27</th>\n",
       "      <td>APRIL</td>\n",
       "      <td>Waste Savings - Kg</td>\n",
       "      <td>902.15</td>\n",
       "    </tr>\n",
       "    <tr>\n",
       "      <th>28</th>\n",
       "      <td>MAY</td>\n",
       "      <td>Waste Savings - Kg</td>\n",
       "      <td>843.75</td>\n",
       "    </tr>\n",
       "    <tr>\n",
       "      <th>29</th>\n",
       "      <td>JUNE</td>\n",
       "      <td>Waste Savings - Kg</td>\n",
       "      <td>772.66</td>\n",
       "    </tr>\n",
       "    <tr>\n",
       "      <th>30</th>\n",
       "      <td>JULY</td>\n",
       "      <td>Waste Savings - Kg</td>\n",
       "      <td>817.45</td>\n",
       "    </tr>\n",
       "    <tr>\n",
       "      <th>31</th>\n",
       "      <td>AUGUST</td>\n",
       "      <td>Waste Savings - Kg</td>\n",
       "      <td>822.55</td>\n",
       "    </tr>\n",
       "    <tr>\n",
       "      <th>32</th>\n",
       "      <td>SEPTEMBER</td>\n",
       "      <td>Waste Savings - Kg</td>\n",
       "      <td>653.49</td>\n",
       "    </tr>\n",
       "    <tr>\n",
       "      <th>33</th>\n",
       "      <td>OCTOBER</td>\n",
       "      <td>Waste Savings - Kg</td>\n",
       "      <td>844.99</td>\n",
       "    </tr>\n",
       "    <tr>\n",
       "      <th>34</th>\n",
       "      <td>NOVEMBER</td>\n",
       "      <td>Waste Savings - Kg</td>\n",
       "      <td>818.89</td>\n",
       "    </tr>\n",
       "    <tr>\n",
       "      <th>35</th>\n",
       "      <td>DECEMBER</td>\n",
       "      <td>Waste Savings - Kg</td>\n",
       "      <td>1070.77</td>\n",
       "    </tr>\n",
       "    <tr>\n",
       "      <th>36</th>\n",
       "      <td>JANUARY</td>\n",
       "      <td>month_numeric</td>\n",
       "      <td>1.00</td>\n",
       "    </tr>\n",
       "    <tr>\n",
       "      <th>37</th>\n",
       "      <td>FEBRUARY</td>\n",
       "      <td>month_numeric</td>\n",
       "      <td>2.00</td>\n",
       "    </tr>\n",
       "    <tr>\n",
       "      <th>38</th>\n",
       "      <td>MARCH</td>\n",
       "      <td>month_numeric</td>\n",
       "      <td>3.00</td>\n",
       "    </tr>\n",
       "    <tr>\n",
       "      <th>39</th>\n",
       "      <td>APRIL</td>\n",
       "      <td>month_numeric</td>\n",
       "      <td>4.00</td>\n",
       "    </tr>\n",
       "    <tr>\n",
       "      <th>40</th>\n",
       "      <td>MAY</td>\n",
       "      <td>month_numeric</td>\n",
       "      <td>5.00</td>\n",
       "    </tr>\n",
       "    <tr>\n",
       "      <th>41</th>\n",
       "      <td>JUNE</td>\n",
       "      <td>month_numeric</td>\n",
       "      <td>6.00</td>\n",
       "    </tr>\n",
       "    <tr>\n",
       "      <th>42</th>\n",
       "      <td>JULY</td>\n",
       "      <td>month_numeric</td>\n",
       "      <td>7.00</td>\n",
       "    </tr>\n",
       "    <tr>\n",
       "      <th>43</th>\n",
       "      <td>AUGUST</td>\n",
       "      <td>month_numeric</td>\n",
       "      <td>8.00</td>\n",
       "    </tr>\n",
       "    <tr>\n",
       "      <th>44</th>\n",
       "      <td>SEPTEMBER</td>\n",
       "      <td>month_numeric</td>\n",
       "      <td>9.00</td>\n",
       "    </tr>\n",
       "    <tr>\n",
       "      <th>45</th>\n",
       "      <td>OCTOBER</td>\n",
       "      <td>month_numeric</td>\n",
       "      <td>10.00</td>\n",
       "    </tr>\n",
       "    <tr>\n",
       "      <th>46</th>\n",
       "      <td>NOVEMBER</td>\n",
       "      <td>month_numeric</td>\n",
       "      <td>11.00</td>\n",
       "    </tr>\n",
       "    <tr>\n",
       "      <th>47</th>\n",
       "      <td>DECEMBER</td>\n",
       "      <td>month_numeric</td>\n",
       "      <td>12.00</td>\n",
       "    </tr>\n",
       "  </tbody>\n",
       "</table>\n",
       "</div>"
      ],
      "text/plain": [
       "       Months                variable    value\n",
       "0     JANUARY     Carbon Savings - Kg  3381.62\n",
       "1    FEBRUARY     Carbon Savings - Kg  3656.80\n",
       "2       MARCH     Carbon Savings - Kg  2888.04\n",
       "3       APRIL     Carbon Savings - Kg  3483.94\n",
       "4         MAY     Carbon Savings - Kg  3380.27\n",
       "5        JUNE     Carbon Savings - Kg  3174.17\n",
       "6        JULY     Carbon Savings - Kg  3423.23\n",
       "7      AUGUST     Carbon Savings - Kg  3472.03\n",
       "8   SEPTEMBER     Carbon Savings - Kg  3400.94\n",
       "9     OCTOBER     Carbon Savings - Kg  3464.54\n",
       "10   NOVEMBER     Carbon Savings - Kg  3386.30\n",
       "11   DECEMBER     Carbon Savings - Kg  3272.23\n",
       "12    JANUARY  Water Savings - Litres  3184.60\n",
       "13   FEBRUARY  Water Savings - Litres  3247.38\n",
       "14      MARCH  Water Savings - Litres  3206.76\n",
       "15      APRIL  Water Savings - Litres  3224.48\n",
       "16        MAY  Water Savings - Litres  3173.87\n",
       "17       JUNE  Water Savings - Litres  3233.87\n",
       "18       JULY  Water Savings - Litres  3039.40\n",
       "19     AUGUST  Water Savings - Litres  3108.91\n",
       "20  SEPTEMBER  Water Savings - Litres  3436.52\n",
       "21    OCTOBER  Water Savings - Litres  3228.17\n",
       "22   NOVEMBER  Water Savings - Litres  3496.93\n",
       "23   DECEMBER  Water Savings - Litres  3165.46\n",
       "24    JANUARY      Waste Savings - Kg  1115.63\n",
       "25   FEBRUARY      Waste Savings - Kg  1116.46\n",
       "26      MARCH      Waste Savings - Kg   874.40\n",
       "27      APRIL      Waste Savings - Kg   902.15\n",
       "28        MAY      Waste Savings - Kg   843.75\n",
       "29       JUNE      Waste Savings - Kg   772.66\n",
       "30       JULY      Waste Savings - Kg   817.45\n",
       "31     AUGUST      Waste Savings - Kg   822.55\n",
       "32  SEPTEMBER      Waste Savings - Kg   653.49\n",
       "33    OCTOBER      Waste Savings - Kg   844.99\n",
       "34   NOVEMBER      Waste Savings - Kg   818.89\n",
       "35   DECEMBER      Waste Savings - Kg  1070.77\n",
       "36    JANUARY           month_numeric     1.00\n",
       "37   FEBRUARY           month_numeric     2.00\n",
       "38      MARCH           month_numeric     3.00\n",
       "39      APRIL           month_numeric     4.00\n",
       "40        MAY           month_numeric     5.00\n",
       "41       JUNE           month_numeric     6.00\n",
       "42       JULY           month_numeric     7.00\n",
       "43     AUGUST           month_numeric     8.00\n",
       "44  SEPTEMBER           month_numeric     9.00\n",
       "45    OCTOBER           month_numeric    10.00\n",
       "46   NOVEMBER           month_numeric    11.00\n",
       "47   DECEMBER           month_numeric    12.00"
      ]
     },
     "execution_count": 10,
     "metadata": {},
     "output_type": "execute_result"
    }
   ],
   "source": [
    "dff"
   ]
  },
  {
   "cell_type": "code",
   "execution_count": 11,
   "metadata": {},
   "outputs": [
    {
     "data": {
      "application/vnd.plotly.v1+json": {
       "config": {
        "plotlyServerURL": "https://plot.ly"
       },
       "data": [
        {
         "hovertemplate": "variable=Carbon Savings - Kg<br>Months=%{x}<br>value=%{y}<extra></extra>",
         "legendgroup": "Carbon Savings - Kg",
         "line": {
          "color": "#e6701d",
          "dash": "solid"
         },
         "marker": {
          "symbol": "circle"
         },
         "mode": "lines",
         "name": "Carbon Savings - Kg",
         "orientation": "v",
         "showlegend": true,
         "type": "scatter",
         "x": [
          "JANUARY",
          "FEBRUARY",
          "MARCH",
          "APRIL",
          "MAY",
          "JUNE",
          "JULY",
          "AUGUST",
          "SEPTEMBER",
          "OCTOBER",
          "NOVEMBER",
          "DECEMBER"
         ],
         "xaxis": "x",
         "y": [
          3381.62,
          3656.8,
          2888.04,
          3483.94,
          3380.27,
          3174.17,
          3423.23,
          3472.0299999999997,
          3400.94,
          3464.54,
          3386.3,
          3272.23
         ],
         "yaxis": "y"
        },
        {
         "hovertemplate": "variable=Water Savings - Litres<br>Months=%{x}<br>value=%{y}<extra></extra>",
         "legendgroup": "Water Savings - Litres",
         "line": {
          "color": "#3566c1",
          "dash": "solid"
         },
         "marker": {
          "symbol": "circle"
         },
         "mode": "lines",
         "name": "Water Savings - Litres",
         "orientation": "v",
         "showlegend": true,
         "type": "scatter",
         "x": [
          "JANUARY",
          "FEBRUARY",
          "MARCH",
          "APRIL",
          "MAY",
          "JUNE",
          "JULY",
          "AUGUST",
          "SEPTEMBER",
          "OCTOBER",
          "NOVEMBER",
          "DECEMBER"
         ],
         "xaxis": "x",
         "y": [
          3184.6,
          3247.38,
          3206.76,
          3224.48,
          3173.87,
          3233.87,
          3039.4,
          3108.91,
          3436.52,
          3228.17,
          3496.93,
          3165.46
         ],
         "yaxis": "y"
        },
        {
         "hovertemplate": "variable=Waste Savings - Kg<br>Months=%{x}<br>value=%{y}<extra></extra>",
         "legendgroup": "Waste Savings - Kg",
         "line": {
          "color": "#ffc61c",
          "dash": "solid"
         },
         "marker": {
          "symbol": "circle"
         },
         "mode": "lines",
         "name": "Waste Savings - Kg",
         "orientation": "v",
         "showlegend": true,
         "type": "scatter",
         "x": [
          "JANUARY",
          "FEBRUARY",
          "MARCH",
          "APRIL",
          "MAY",
          "JUNE",
          "JULY",
          "AUGUST",
          "SEPTEMBER",
          "OCTOBER",
          "NOVEMBER",
          "DECEMBER"
         ],
         "xaxis": "x",
         "y": [
          1115.63,
          1116.46,
          874.4000000000001,
          902.1500000000001,
          843.75,
          772.6600000000001,
          817.45,
          822.55,
          653.49,
          844.99,
          818.89,
          1070.77
         ],
         "yaxis": "y"
        },
        {
         "hovertemplate": "variable=month_numeric<br>Months=%{x}<br>value=%{y}<extra></extra>",
         "legendgroup": "month_numeric",
         "line": {
          "color": "#a7a6a7",
          "dash": "solid"
         },
         "marker": {
          "symbol": "circle"
         },
         "mode": "lines",
         "name": "month_numeric",
         "orientation": "v",
         "showlegend": true,
         "type": "scatter",
         "x": [
          "JANUARY",
          "FEBRUARY",
          "MARCH",
          "APRIL",
          "MAY",
          "JUNE",
          "JULY",
          "AUGUST",
          "SEPTEMBER",
          "OCTOBER",
          "NOVEMBER",
          "DECEMBER"
         ],
         "xaxis": "x",
         "y": [
          1,
          2,
          3,
          4,
          5,
          6,
          7,
          8,
          9,
          10,
          11,
          12
         ],
         "yaxis": "y"
        }
       ],
       "layout": {
        "font": {
         "color": "white"
        },
        "legend": {
         "orientation": "h",
         "title": {
          "text": ""
         },
         "tracegroupgap": 0,
         "x": 0.5,
         "xanchor": "center",
         "y": -0.2
        },
        "margin": {
         "t": 60
        },
        "paper_bgcolor": "rgba(0, 0, 0, 0)",
        "plot_bgcolor": "rgba(0, 0, 0, 0)",
        "template": {
         "data": {
          "bar": [
           {
            "error_x": {
             "color": "#2a3f5f"
            },
            "error_y": {
             "color": "#2a3f5f"
            },
            "marker": {
             "line": {
              "color": "#E5ECF6",
              "width": 0.5
             },
             "pattern": {
              "fillmode": "overlay",
              "size": 10,
              "solidity": 0.2
             }
            },
            "type": "bar"
           }
          ],
          "barpolar": [
           {
            "marker": {
             "line": {
              "color": "#E5ECF6",
              "width": 0.5
             },
             "pattern": {
              "fillmode": "overlay",
              "size": 10,
              "solidity": 0.2
             }
            },
            "type": "barpolar"
           }
          ],
          "carpet": [
           {
            "aaxis": {
             "endlinecolor": "#2a3f5f",
             "gridcolor": "white",
             "linecolor": "white",
             "minorgridcolor": "white",
             "startlinecolor": "#2a3f5f"
            },
            "baxis": {
             "endlinecolor": "#2a3f5f",
             "gridcolor": "white",
             "linecolor": "white",
             "minorgridcolor": "white",
             "startlinecolor": "#2a3f5f"
            },
            "type": "carpet"
           }
          ],
          "choropleth": [
           {
            "colorbar": {
             "outlinewidth": 0,
             "ticks": ""
            },
            "type": "choropleth"
           }
          ],
          "contour": [
           {
            "colorbar": {
             "outlinewidth": 0,
             "ticks": ""
            },
            "colorscale": [
             [
              0,
              "#0d0887"
             ],
             [
              0.1111111111111111,
              "#46039f"
             ],
             [
              0.2222222222222222,
              "#7201a8"
             ],
             [
              0.3333333333333333,
              "#9c179e"
             ],
             [
              0.4444444444444444,
              "#bd3786"
             ],
             [
              0.5555555555555556,
              "#d8576b"
             ],
             [
              0.6666666666666666,
              "#ed7953"
             ],
             [
              0.7777777777777778,
              "#fb9f3a"
             ],
             [
              0.8888888888888888,
              "#fdca26"
             ],
             [
              1,
              "#f0f921"
             ]
            ],
            "type": "contour"
           }
          ],
          "contourcarpet": [
           {
            "colorbar": {
             "outlinewidth": 0,
             "ticks": ""
            },
            "type": "contourcarpet"
           }
          ],
          "heatmap": [
           {
            "colorbar": {
             "outlinewidth": 0,
             "ticks": ""
            },
            "colorscale": [
             [
              0,
              "#0d0887"
             ],
             [
              0.1111111111111111,
              "#46039f"
             ],
             [
              0.2222222222222222,
              "#7201a8"
             ],
             [
              0.3333333333333333,
              "#9c179e"
             ],
             [
              0.4444444444444444,
              "#bd3786"
             ],
             [
              0.5555555555555556,
              "#d8576b"
             ],
             [
              0.6666666666666666,
              "#ed7953"
             ],
             [
              0.7777777777777778,
              "#fb9f3a"
             ],
             [
              0.8888888888888888,
              "#fdca26"
             ],
             [
              1,
              "#f0f921"
             ]
            ],
            "type": "heatmap"
           }
          ],
          "heatmapgl": [
           {
            "colorbar": {
             "outlinewidth": 0,
             "ticks": ""
            },
            "colorscale": [
             [
              0,
              "#0d0887"
             ],
             [
              0.1111111111111111,
              "#46039f"
             ],
             [
              0.2222222222222222,
              "#7201a8"
             ],
             [
              0.3333333333333333,
              "#9c179e"
             ],
             [
              0.4444444444444444,
              "#bd3786"
             ],
             [
              0.5555555555555556,
              "#d8576b"
             ],
             [
              0.6666666666666666,
              "#ed7953"
             ],
             [
              0.7777777777777778,
              "#fb9f3a"
             ],
             [
              0.8888888888888888,
              "#fdca26"
             ],
             [
              1,
              "#f0f921"
             ]
            ],
            "type": "heatmapgl"
           }
          ],
          "histogram": [
           {
            "marker": {
             "pattern": {
              "fillmode": "overlay",
              "size": 10,
              "solidity": 0.2
             }
            },
            "type": "histogram"
           }
          ],
          "histogram2d": [
           {
            "colorbar": {
             "outlinewidth": 0,
             "ticks": ""
            },
            "colorscale": [
             [
              0,
              "#0d0887"
             ],
             [
              0.1111111111111111,
              "#46039f"
             ],
             [
              0.2222222222222222,
              "#7201a8"
             ],
             [
              0.3333333333333333,
              "#9c179e"
             ],
             [
              0.4444444444444444,
              "#bd3786"
             ],
             [
              0.5555555555555556,
              "#d8576b"
             ],
             [
              0.6666666666666666,
              "#ed7953"
             ],
             [
              0.7777777777777778,
              "#fb9f3a"
             ],
             [
              0.8888888888888888,
              "#fdca26"
             ],
             [
              1,
              "#f0f921"
             ]
            ],
            "type": "histogram2d"
           }
          ],
          "histogram2dcontour": [
           {
            "colorbar": {
             "outlinewidth": 0,
             "ticks": ""
            },
            "colorscale": [
             [
              0,
              "#0d0887"
             ],
             [
              0.1111111111111111,
              "#46039f"
             ],
             [
              0.2222222222222222,
              "#7201a8"
             ],
             [
              0.3333333333333333,
              "#9c179e"
             ],
             [
              0.4444444444444444,
              "#bd3786"
             ],
             [
              0.5555555555555556,
              "#d8576b"
             ],
             [
              0.6666666666666666,
              "#ed7953"
             ],
             [
              0.7777777777777778,
              "#fb9f3a"
             ],
             [
              0.8888888888888888,
              "#fdca26"
             ],
             [
              1,
              "#f0f921"
             ]
            ],
            "type": "histogram2dcontour"
           }
          ],
          "mesh3d": [
           {
            "colorbar": {
             "outlinewidth": 0,
             "ticks": ""
            },
            "type": "mesh3d"
           }
          ],
          "parcoords": [
           {
            "line": {
             "colorbar": {
              "outlinewidth": 0,
              "ticks": ""
             }
            },
            "type": "parcoords"
           }
          ],
          "pie": [
           {
            "automargin": true,
            "type": "pie"
           }
          ],
          "scatter": [
           {
            "fillpattern": {
             "fillmode": "overlay",
             "size": 10,
             "solidity": 0.2
            },
            "type": "scatter"
           }
          ],
          "scatter3d": [
           {
            "line": {
             "colorbar": {
              "outlinewidth": 0,
              "ticks": ""
             }
            },
            "marker": {
             "colorbar": {
              "outlinewidth": 0,
              "ticks": ""
             }
            },
            "type": "scatter3d"
           }
          ],
          "scattercarpet": [
           {
            "marker": {
             "colorbar": {
              "outlinewidth": 0,
              "ticks": ""
             }
            },
            "type": "scattercarpet"
           }
          ],
          "scattergeo": [
           {
            "marker": {
             "colorbar": {
              "outlinewidth": 0,
              "ticks": ""
             }
            },
            "type": "scattergeo"
           }
          ],
          "scattergl": [
           {
            "marker": {
             "colorbar": {
              "outlinewidth": 0,
              "ticks": ""
             }
            },
            "type": "scattergl"
           }
          ],
          "scattermapbox": [
           {
            "marker": {
             "colorbar": {
              "outlinewidth": 0,
              "ticks": ""
             }
            },
            "type": "scattermapbox"
           }
          ],
          "scatterpolar": [
           {
            "marker": {
             "colorbar": {
              "outlinewidth": 0,
              "ticks": ""
             }
            },
            "type": "scatterpolar"
           }
          ],
          "scatterpolargl": [
           {
            "marker": {
             "colorbar": {
              "outlinewidth": 0,
              "ticks": ""
             }
            },
            "type": "scatterpolargl"
           }
          ],
          "scatterternary": [
           {
            "marker": {
             "colorbar": {
              "outlinewidth": 0,
              "ticks": ""
             }
            },
            "type": "scatterternary"
           }
          ],
          "surface": [
           {
            "colorbar": {
             "outlinewidth": 0,
             "ticks": ""
            },
            "colorscale": [
             [
              0,
              "#0d0887"
             ],
             [
              0.1111111111111111,
              "#46039f"
             ],
             [
              0.2222222222222222,
              "#7201a8"
             ],
             [
              0.3333333333333333,
              "#9c179e"
             ],
             [
              0.4444444444444444,
              "#bd3786"
             ],
             [
              0.5555555555555556,
              "#d8576b"
             ],
             [
              0.6666666666666666,
              "#ed7953"
             ],
             [
              0.7777777777777778,
              "#fb9f3a"
             ],
             [
              0.8888888888888888,
              "#fdca26"
             ],
             [
              1,
              "#f0f921"
             ]
            ],
            "type": "surface"
           }
          ],
          "table": [
           {
            "cells": {
             "fill": {
              "color": "#EBF0F8"
             },
             "line": {
              "color": "white"
             }
            },
            "header": {
             "fill": {
              "color": "#C8D4E3"
             },
             "line": {
              "color": "white"
             }
            },
            "type": "table"
           }
          ]
         },
         "layout": {
          "annotationdefaults": {
           "arrowcolor": "#2a3f5f",
           "arrowhead": 0,
           "arrowwidth": 1
          },
          "autotypenumbers": "strict",
          "coloraxis": {
           "colorbar": {
            "outlinewidth": 0,
            "ticks": ""
           }
          },
          "colorscale": {
           "diverging": [
            [
             0,
             "#8e0152"
            ],
            [
             0.1,
             "#c51b7d"
            ],
            [
             0.2,
             "#de77ae"
            ],
            [
             0.3,
             "#f1b6da"
            ],
            [
             0.4,
             "#fde0ef"
            ],
            [
             0.5,
             "#f7f7f7"
            ],
            [
             0.6,
             "#e6f5d0"
            ],
            [
             0.7,
             "#b8e186"
            ],
            [
             0.8,
             "#7fbc41"
            ],
            [
             0.9,
             "#4d9221"
            ],
            [
             1,
             "#276419"
            ]
           ],
           "sequential": [
            [
             0,
             "#0d0887"
            ],
            [
             0.1111111111111111,
             "#46039f"
            ],
            [
             0.2222222222222222,
             "#7201a8"
            ],
            [
             0.3333333333333333,
             "#9c179e"
            ],
            [
             0.4444444444444444,
             "#bd3786"
            ],
            [
             0.5555555555555556,
             "#d8576b"
            ],
            [
             0.6666666666666666,
             "#ed7953"
            ],
            [
             0.7777777777777778,
             "#fb9f3a"
            ],
            [
             0.8888888888888888,
             "#fdca26"
            ],
            [
             1,
             "#f0f921"
            ]
           ],
           "sequentialminus": [
            [
             0,
             "#0d0887"
            ],
            [
             0.1111111111111111,
             "#46039f"
            ],
            [
             0.2222222222222222,
             "#7201a8"
            ],
            [
             0.3333333333333333,
             "#9c179e"
            ],
            [
             0.4444444444444444,
             "#bd3786"
            ],
            [
             0.5555555555555556,
             "#d8576b"
            ],
            [
             0.6666666666666666,
             "#ed7953"
            ],
            [
             0.7777777777777778,
             "#fb9f3a"
            ],
            [
             0.8888888888888888,
             "#fdca26"
            ],
            [
             1,
             "#f0f921"
            ]
           ]
          },
          "colorway": [
           "#636efa",
           "#EF553B",
           "#00cc96",
           "#ab63fa",
           "#FFA15A",
           "#19d3f3",
           "#FF6692",
           "#B6E880",
           "#FF97FF",
           "#FECB52"
          ],
          "font": {
           "color": "#2a3f5f"
          },
          "geo": {
           "bgcolor": "white",
           "lakecolor": "white",
           "landcolor": "#E5ECF6",
           "showlakes": true,
           "showland": true,
           "subunitcolor": "white"
          },
          "hoverlabel": {
           "align": "left"
          },
          "hovermode": "closest",
          "mapbox": {
           "style": "light"
          },
          "paper_bgcolor": "white",
          "plot_bgcolor": "#E5ECF6",
          "polar": {
           "angularaxis": {
            "gridcolor": "white",
            "linecolor": "white",
            "ticks": ""
           },
           "bgcolor": "#E5ECF6",
           "radialaxis": {
            "gridcolor": "white",
            "linecolor": "white",
            "ticks": ""
           }
          },
          "scene": {
           "xaxis": {
            "backgroundcolor": "#E5ECF6",
            "gridcolor": "white",
            "gridwidth": 2,
            "linecolor": "white",
            "showbackground": true,
            "ticks": "",
            "zerolinecolor": "white"
           },
           "yaxis": {
            "backgroundcolor": "#E5ECF6",
            "gridcolor": "white",
            "gridwidth": 2,
            "linecolor": "white",
            "showbackground": true,
            "ticks": "",
            "zerolinecolor": "white"
           },
           "zaxis": {
            "backgroundcolor": "#E5ECF6",
            "gridcolor": "white",
            "gridwidth": 2,
            "linecolor": "white",
            "showbackground": true,
            "ticks": "",
            "zerolinecolor": "white"
           }
          },
          "shapedefaults": {
           "line": {
            "color": "#2a3f5f"
           }
          },
          "ternary": {
           "aaxis": {
            "gridcolor": "white",
            "linecolor": "white",
            "ticks": ""
           },
           "baxis": {
            "gridcolor": "white",
            "linecolor": "white",
            "ticks": ""
           },
           "bgcolor": "#E5ECF6",
           "caxis": {
            "gridcolor": "white",
            "linecolor": "white",
            "ticks": ""
           }
          },
          "title": {
           "x": 0.05
          },
          "xaxis": {
           "automargin": true,
           "gridcolor": "white",
           "linecolor": "white",
           "ticks": "",
           "title": {
            "standoff": 15
           },
           "zerolinecolor": "white",
           "zerolinewidth": 2
          },
          "yaxis": {
           "automargin": true,
           "gridcolor": "white",
           "linecolor": "white",
           "ticks": "",
           "title": {
            "standoff": 15
           },
           "zerolinecolor": "white",
           "zerolinewidth": 2
          }
         }
        },
        "xaxis": {
         "anchor": "y",
         "domain": [
          0,
          1
         ],
         "showgrid": false,
         "title": {
          "text": "<b>MONTHS<b>"
         }
        },
        "yaxis": {
         "anchor": "x",
         "domain": [
          0,
          1
         ],
         "gridcolor": "grey",
         "title": {
          "text": "<b>SAVINGS<b>"
         }
        }
       }
      }
     },
     "metadata": {},
     "output_type": "display_data"
    }
   ],
   "source": [
    "import plotly.express as px\n",
    "fig = px.line(dff, x = 'Months', y = 'value', color = 'variable', color_discrete_sequence = ['#e6701d', '#3566c1', '#ffc61c', '#a7a6a7'])\n",
    "fig.update_layout(plot_bgcolor = 'rgba(0, 0, 0, 0)', \n",
    "paper_bgcolor = 'rgba(0, 0, 0, 0)', \n",
    "font = dict(color = 'white'), \n",
    "legend = dict(orientation = 'h', title = '', x = 0.5, xanchor = 'center', y = -0.2))\n",
    "fig.update_xaxes(title = \"<b>MONTHS<b>\", showgrid = False)\n",
    "fig.update_yaxes(title = \"<b>SAVINGS<b>\", gridcolor = 'grey')\n",
    "fig.show()"
   ]
  },
  {
   "cell_type": "code",
   "execution_count": 12,
   "metadata": {},
   "outputs": [],
   "source": [
    "df_donut = df.groupby('Item', as_index = False).sum()"
   ]
  },
  {
   "cell_type": "code",
   "execution_count": 13,
   "metadata": {},
   "outputs": [
    {
     "data": {
      "application/vnd.plotly.v1+json": {
       "config": {
        "plotlyServerURL": "https://plot.ly"
       },
       "data": [
        {
         "domain": {
          "x": [
           0,
           1
          ],
          "y": [
           0,
           1
          ]
         },
         "hole": 0.5,
         "hovertemplate": "Item=%{label}<br>Processing Efficiency=%{value}<extra></extra>",
         "labels": [
          "Aprons",
          "Drapes",
          "Gowns",
          "Masks"
         ],
         "legendgroup": "",
         "name": "",
         "showlegend": true,
         "textinfo": "percent+label",
         "textposition": "inside",
         "type": "pie",
         "values": [
          10.1,
          9.82,
          9.73,
          9.96
         ]
        }
       ],
       "layout": {
        "font": {
         "color": "white"
        },
        "legend": {
         "orientation": "h",
         "title": {
          "text": ""
         },
         "tracegroupgap": 0,
         "x": 0.5,
         "xanchor": "center",
         "y": -0.2
        },
        "margin": {
         "t": 55
        },
        "paper_bgcolor": "rgba(0, 0, 0, 0)",
        "piecolorway": [
         "#e6701d",
         "#3566c1",
         "#ffc61c",
         "#a7a6a7"
        ],
        "plot_bgcolor": "rgba(0, 0, 0, 0)",
        "template": {
         "data": {
          "bar": [
           {
            "error_x": {
             "color": "#2a3f5f"
            },
            "error_y": {
             "color": "#2a3f5f"
            },
            "marker": {
             "line": {
              "color": "#E5ECF6",
              "width": 0.5
             },
             "pattern": {
              "fillmode": "overlay",
              "size": 10,
              "solidity": 0.2
             }
            },
            "type": "bar"
           }
          ],
          "barpolar": [
           {
            "marker": {
             "line": {
              "color": "#E5ECF6",
              "width": 0.5
             },
             "pattern": {
              "fillmode": "overlay",
              "size": 10,
              "solidity": 0.2
             }
            },
            "type": "barpolar"
           }
          ],
          "carpet": [
           {
            "aaxis": {
             "endlinecolor": "#2a3f5f",
             "gridcolor": "white",
             "linecolor": "white",
             "minorgridcolor": "white",
             "startlinecolor": "#2a3f5f"
            },
            "baxis": {
             "endlinecolor": "#2a3f5f",
             "gridcolor": "white",
             "linecolor": "white",
             "minorgridcolor": "white",
             "startlinecolor": "#2a3f5f"
            },
            "type": "carpet"
           }
          ],
          "choropleth": [
           {
            "colorbar": {
             "outlinewidth": 0,
             "ticks": ""
            },
            "type": "choropleth"
           }
          ],
          "contour": [
           {
            "colorbar": {
             "outlinewidth": 0,
             "ticks": ""
            },
            "colorscale": [
             [
              0,
              "#0d0887"
             ],
             [
              0.1111111111111111,
              "#46039f"
             ],
             [
              0.2222222222222222,
              "#7201a8"
             ],
             [
              0.3333333333333333,
              "#9c179e"
             ],
             [
              0.4444444444444444,
              "#bd3786"
             ],
             [
              0.5555555555555556,
              "#d8576b"
             ],
             [
              0.6666666666666666,
              "#ed7953"
             ],
             [
              0.7777777777777778,
              "#fb9f3a"
             ],
             [
              0.8888888888888888,
              "#fdca26"
             ],
             [
              1,
              "#f0f921"
             ]
            ],
            "type": "contour"
           }
          ],
          "contourcarpet": [
           {
            "colorbar": {
             "outlinewidth": 0,
             "ticks": ""
            },
            "type": "contourcarpet"
           }
          ],
          "heatmap": [
           {
            "colorbar": {
             "outlinewidth": 0,
             "ticks": ""
            },
            "colorscale": [
             [
              0,
              "#0d0887"
             ],
             [
              0.1111111111111111,
              "#46039f"
             ],
             [
              0.2222222222222222,
              "#7201a8"
             ],
             [
              0.3333333333333333,
              "#9c179e"
             ],
             [
              0.4444444444444444,
              "#bd3786"
             ],
             [
              0.5555555555555556,
              "#d8576b"
             ],
             [
              0.6666666666666666,
              "#ed7953"
             ],
             [
              0.7777777777777778,
              "#fb9f3a"
             ],
             [
              0.8888888888888888,
              "#fdca26"
             ],
             [
              1,
              "#f0f921"
             ]
            ],
            "type": "heatmap"
           }
          ],
          "heatmapgl": [
           {
            "colorbar": {
             "outlinewidth": 0,
             "ticks": ""
            },
            "colorscale": [
             [
              0,
              "#0d0887"
             ],
             [
              0.1111111111111111,
              "#46039f"
             ],
             [
              0.2222222222222222,
              "#7201a8"
             ],
             [
              0.3333333333333333,
              "#9c179e"
             ],
             [
              0.4444444444444444,
              "#bd3786"
             ],
             [
              0.5555555555555556,
              "#d8576b"
             ],
             [
              0.6666666666666666,
              "#ed7953"
             ],
             [
              0.7777777777777778,
              "#fb9f3a"
             ],
             [
              0.8888888888888888,
              "#fdca26"
             ],
             [
              1,
              "#f0f921"
             ]
            ],
            "type": "heatmapgl"
           }
          ],
          "histogram": [
           {
            "marker": {
             "pattern": {
              "fillmode": "overlay",
              "size": 10,
              "solidity": 0.2
             }
            },
            "type": "histogram"
           }
          ],
          "histogram2d": [
           {
            "colorbar": {
             "outlinewidth": 0,
             "ticks": ""
            },
            "colorscale": [
             [
              0,
              "#0d0887"
             ],
             [
              0.1111111111111111,
              "#46039f"
             ],
             [
              0.2222222222222222,
              "#7201a8"
             ],
             [
              0.3333333333333333,
              "#9c179e"
             ],
             [
              0.4444444444444444,
              "#bd3786"
             ],
             [
              0.5555555555555556,
              "#d8576b"
             ],
             [
              0.6666666666666666,
              "#ed7953"
             ],
             [
              0.7777777777777778,
              "#fb9f3a"
             ],
             [
              0.8888888888888888,
              "#fdca26"
             ],
             [
              1,
              "#f0f921"
             ]
            ],
            "type": "histogram2d"
           }
          ],
          "histogram2dcontour": [
           {
            "colorbar": {
             "outlinewidth": 0,
             "ticks": ""
            },
            "colorscale": [
             [
              0,
              "#0d0887"
             ],
             [
              0.1111111111111111,
              "#46039f"
             ],
             [
              0.2222222222222222,
              "#7201a8"
             ],
             [
              0.3333333333333333,
              "#9c179e"
             ],
             [
              0.4444444444444444,
              "#bd3786"
             ],
             [
              0.5555555555555556,
              "#d8576b"
             ],
             [
              0.6666666666666666,
              "#ed7953"
             ],
             [
              0.7777777777777778,
              "#fb9f3a"
             ],
             [
              0.8888888888888888,
              "#fdca26"
             ],
             [
              1,
              "#f0f921"
             ]
            ],
            "type": "histogram2dcontour"
           }
          ],
          "mesh3d": [
           {
            "colorbar": {
             "outlinewidth": 0,
             "ticks": ""
            },
            "type": "mesh3d"
           }
          ],
          "parcoords": [
           {
            "line": {
             "colorbar": {
              "outlinewidth": 0,
              "ticks": ""
             }
            },
            "type": "parcoords"
           }
          ],
          "pie": [
           {
            "automargin": true,
            "type": "pie"
           }
          ],
          "scatter": [
           {
            "fillpattern": {
             "fillmode": "overlay",
             "size": 10,
             "solidity": 0.2
            },
            "type": "scatter"
           }
          ],
          "scatter3d": [
           {
            "line": {
             "colorbar": {
              "outlinewidth": 0,
              "ticks": ""
             }
            },
            "marker": {
             "colorbar": {
              "outlinewidth": 0,
              "ticks": ""
             }
            },
            "type": "scatter3d"
           }
          ],
          "scattercarpet": [
           {
            "marker": {
             "colorbar": {
              "outlinewidth": 0,
              "ticks": ""
             }
            },
            "type": "scattercarpet"
           }
          ],
          "scattergeo": [
           {
            "marker": {
             "colorbar": {
              "outlinewidth": 0,
              "ticks": ""
             }
            },
            "type": "scattergeo"
           }
          ],
          "scattergl": [
           {
            "marker": {
             "colorbar": {
              "outlinewidth": 0,
              "ticks": ""
             }
            },
            "type": "scattergl"
           }
          ],
          "scattermapbox": [
           {
            "marker": {
             "colorbar": {
              "outlinewidth": 0,
              "ticks": ""
             }
            },
            "type": "scattermapbox"
           }
          ],
          "scatterpolar": [
           {
            "marker": {
             "colorbar": {
              "outlinewidth": 0,
              "ticks": ""
             }
            },
            "type": "scatterpolar"
           }
          ],
          "scatterpolargl": [
           {
            "marker": {
             "colorbar": {
              "outlinewidth": 0,
              "ticks": ""
             }
            },
            "type": "scatterpolargl"
           }
          ],
          "scatterternary": [
           {
            "marker": {
             "colorbar": {
              "outlinewidth": 0,
              "ticks": ""
             }
            },
            "type": "scatterternary"
           }
          ],
          "surface": [
           {
            "colorbar": {
             "outlinewidth": 0,
             "ticks": ""
            },
            "colorscale": [
             [
              0,
              "#0d0887"
             ],
             [
              0.1111111111111111,
              "#46039f"
             ],
             [
              0.2222222222222222,
              "#7201a8"
             ],
             [
              0.3333333333333333,
              "#9c179e"
             ],
             [
              0.4444444444444444,
              "#bd3786"
             ],
             [
              0.5555555555555556,
              "#d8576b"
             ],
             [
              0.6666666666666666,
              "#ed7953"
             ],
             [
              0.7777777777777778,
              "#fb9f3a"
             ],
             [
              0.8888888888888888,
              "#fdca26"
             ],
             [
              1,
              "#f0f921"
             ]
            ],
            "type": "surface"
           }
          ],
          "table": [
           {
            "cells": {
             "fill": {
              "color": "#EBF0F8"
             },
             "line": {
              "color": "white"
             }
            },
            "header": {
             "fill": {
              "color": "#C8D4E3"
             },
             "line": {
              "color": "white"
             }
            },
            "type": "table"
           }
          ]
         },
         "layout": {
          "annotationdefaults": {
           "arrowcolor": "#2a3f5f",
           "arrowhead": 0,
           "arrowwidth": 1
          },
          "autotypenumbers": "strict",
          "coloraxis": {
           "colorbar": {
            "outlinewidth": 0,
            "ticks": ""
           }
          },
          "colorscale": {
           "diverging": [
            [
             0,
             "#8e0152"
            ],
            [
             0.1,
             "#c51b7d"
            ],
            [
             0.2,
             "#de77ae"
            ],
            [
             0.3,
             "#f1b6da"
            ],
            [
             0.4,
             "#fde0ef"
            ],
            [
             0.5,
             "#f7f7f7"
            ],
            [
             0.6,
             "#e6f5d0"
            ],
            [
             0.7,
             "#b8e186"
            ],
            [
             0.8,
             "#7fbc41"
            ],
            [
             0.9,
             "#4d9221"
            ],
            [
             1,
             "#276419"
            ]
           ],
           "sequential": [
            [
             0,
             "#0d0887"
            ],
            [
             0.1111111111111111,
             "#46039f"
            ],
            [
             0.2222222222222222,
             "#7201a8"
            ],
            [
             0.3333333333333333,
             "#9c179e"
            ],
            [
             0.4444444444444444,
             "#bd3786"
            ],
            [
             0.5555555555555556,
             "#d8576b"
            ],
            [
             0.6666666666666666,
             "#ed7953"
            ],
            [
             0.7777777777777778,
             "#fb9f3a"
            ],
            [
             0.8888888888888888,
             "#fdca26"
            ],
            [
             1,
             "#f0f921"
            ]
           ],
           "sequentialminus": [
            [
             0,
             "#0d0887"
            ],
            [
             0.1111111111111111,
             "#46039f"
            ],
            [
             0.2222222222222222,
             "#7201a8"
            ],
            [
             0.3333333333333333,
             "#9c179e"
            ],
            [
             0.4444444444444444,
             "#bd3786"
            ],
            [
             0.5555555555555556,
             "#d8576b"
            ],
            [
             0.6666666666666666,
             "#ed7953"
            ],
            [
             0.7777777777777778,
             "#fb9f3a"
            ],
            [
             0.8888888888888888,
             "#fdca26"
            ],
            [
             1,
             "#f0f921"
            ]
           ]
          },
          "colorway": [
           "#636efa",
           "#EF553B",
           "#00cc96",
           "#ab63fa",
           "#FFA15A",
           "#19d3f3",
           "#FF6692",
           "#B6E880",
           "#FF97FF",
           "#FECB52"
          ],
          "font": {
           "color": "#2a3f5f"
          },
          "geo": {
           "bgcolor": "white",
           "lakecolor": "white",
           "landcolor": "#E5ECF6",
           "showlakes": true,
           "showland": true,
           "subunitcolor": "white"
          },
          "hoverlabel": {
           "align": "left"
          },
          "hovermode": "closest",
          "mapbox": {
           "style": "light"
          },
          "paper_bgcolor": "white",
          "plot_bgcolor": "#E5ECF6",
          "polar": {
           "angularaxis": {
            "gridcolor": "white",
            "linecolor": "white",
            "ticks": ""
           },
           "bgcolor": "#E5ECF6",
           "radialaxis": {
            "gridcolor": "white",
            "linecolor": "white",
            "ticks": ""
           }
          },
          "scene": {
           "xaxis": {
            "backgroundcolor": "#E5ECF6",
            "gridcolor": "white",
            "gridwidth": 2,
            "linecolor": "white",
            "showbackground": true,
            "ticks": "",
            "zerolinecolor": "white"
           },
           "yaxis": {
            "backgroundcolor": "#E5ECF6",
            "gridcolor": "white",
            "gridwidth": 2,
            "linecolor": "white",
            "showbackground": true,
            "ticks": "",
            "zerolinecolor": "white"
           },
           "zaxis": {
            "backgroundcolor": "#E5ECF6",
            "gridcolor": "white",
            "gridwidth": 2,
            "linecolor": "white",
            "showbackground": true,
            "ticks": "",
            "zerolinecolor": "white"
           }
          },
          "shapedefaults": {
           "line": {
            "color": "#2a3f5f"
           }
          },
          "ternary": {
           "aaxis": {
            "gridcolor": "white",
            "linecolor": "white",
            "ticks": ""
           },
           "baxis": {
            "gridcolor": "white",
            "linecolor": "white",
            "ticks": ""
           },
           "bgcolor": "#E5ECF6",
           "caxis": {
            "gridcolor": "white",
            "linecolor": "white",
            "ticks": ""
           }
          },
          "title": {
           "x": 0.05
          },
          "xaxis": {
           "automargin": true,
           "gridcolor": "white",
           "linecolor": "white",
           "ticks": "",
           "title": {
            "standoff": 15
           },
           "zerolinecolor": "white",
           "zerolinewidth": 2
          },
          "yaxis": {
           "automargin": true,
           "gridcolor": "white",
           "linecolor": "white",
           "ticks": "",
           "title": {
            "standoff": 15
           },
           "zerolinecolor": "white",
           "zerolinewidth": 2
          }
         }
        },
        "title": {
         "font": {
          "size": 25
         },
         "text": "<b>Sum of Carbon Savings / item<b>",
         "x": 0.5,
         "xanchor": "center"
        }
       }
      }
     },
     "metadata": {},
     "output_type": "display_data"
    }
   ],
   "source": [
    "fig = px.pie(\n",
    "        df_donut, \n",
    "        names= 'Item', \n",
    "        values = 'Processing Efficiency', \n",
    "        hole = 0.5, \n",
    "        color_discrete_sequence = ['#e6701d', '#3566c1', '#ffc61c', '#a7a6a7'],\n",
    "        title = \"<b>Sum of Carbon Savings / item<b>\")\n",
    "fig.update_layout(\n",
    "        title = dict(font_size = 25, x = 0.5, xanchor = 'center'),\n",
    "        margin = dict(t = 55),\n",
    "        plot_bgcolor = 'rgba(0, 0, 0, 0)', \n",
    "        paper_bgcolor = 'rgba(0, 0, 0, 0)', \n",
    "        font = dict(color = 'white'), \n",
    "        legend = dict(orientation = 'h', title = '', x = 0.5, xanchor = 'center', y = -0.2))\n",
    "fig.update_traces(textposition='inside', textinfo='percent+label')\n",
    "fig.show()"
   ]
  },
  {
   "cell_type": "code",
   "execution_count": 14,
   "metadata": {},
   "outputs": [],
   "source": [
    "df_bar = df.melt(id_vars = ['Item', 'Months'], value_vars=df.columns[1:-1])"
   ]
  },
  {
   "cell_type": "code",
   "execution_count": 15,
   "metadata": {},
   "outputs": [
    {
     "data": {
      "text/html": [
       "<div>\n",
       "<style scoped>\n",
       "    .dataframe tbody tr th:only-of-type {\n",
       "        vertical-align: middle;\n",
       "    }\n",
       "\n",
       "    .dataframe tbody tr th {\n",
       "        vertical-align: top;\n",
       "    }\n",
       "\n",
       "    .dataframe thead th {\n",
       "        text-align: right;\n",
       "    }\n",
       "</style>\n",
       "<table border=\"1\" class=\"dataframe\">\n",
       "  <thead>\n",
       "    <tr style=\"text-align: right;\">\n",
       "      <th></th>\n",
       "      <th>Item</th>\n",
       "      <th>Months</th>\n",
       "      <th>variable</th>\n",
       "      <th>value</th>\n",
       "    </tr>\n",
       "  </thead>\n",
       "  <tbody>\n",
       "    <tr>\n",
       "      <th>0</th>\n",
       "      <td>Gowns</td>\n",
       "      <td>JANUARY</td>\n",
       "      <td>Processing Efficiency</td>\n",
       "      <td>0.71</td>\n",
       "    </tr>\n",
       "    <tr>\n",
       "      <th>1</th>\n",
       "      <td>Gowns</td>\n",
       "      <td>FEBRUARY</td>\n",
       "      <td>Processing Efficiency</td>\n",
       "      <td>0.95</td>\n",
       "    </tr>\n",
       "    <tr>\n",
       "      <th>2</th>\n",
       "      <td>Gowns</td>\n",
       "      <td>MARCH</td>\n",
       "      <td>Processing Efficiency</td>\n",
       "      <td>0.70</td>\n",
       "    </tr>\n",
       "    <tr>\n",
       "      <th>3</th>\n",
       "      <td>Gowns</td>\n",
       "      <td>APRIL</td>\n",
       "      <td>Processing Efficiency</td>\n",
       "      <td>0.75</td>\n",
       "    </tr>\n",
       "    <tr>\n",
       "      <th>4</th>\n",
       "      <td>Gowns</td>\n",
       "      <td>MAY</td>\n",
       "      <td>Processing Efficiency</td>\n",
       "      <td>0.78</td>\n",
       "    </tr>\n",
       "    <tr>\n",
       "      <th>...</th>\n",
       "      <td>...</td>\n",
       "      <td>...</td>\n",
       "      <td>...</td>\n",
       "      <td>...</td>\n",
       "    </tr>\n",
       "    <tr>\n",
       "      <th>379</th>\n",
       "      <td>Masks</td>\n",
       "      <td>AUGUST</td>\n",
       "      <td>Waste Savings - Kg</td>\n",
       "      <td>154.45</td>\n",
       "    </tr>\n",
       "    <tr>\n",
       "      <th>380</th>\n",
       "      <td>Masks</td>\n",
       "      <td>SEPTEMBER</td>\n",
       "      <td>Waste Savings - Kg</td>\n",
       "      <td>184.97</td>\n",
       "    </tr>\n",
       "    <tr>\n",
       "      <th>381</th>\n",
       "      <td>Masks</td>\n",
       "      <td>OCTOBER</td>\n",
       "      <td>Waste Savings - Kg</td>\n",
       "      <td>193.55</td>\n",
       "    </tr>\n",
       "    <tr>\n",
       "      <th>382</th>\n",
       "      <td>Masks</td>\n",
       "      <td>NOVEMBER</td>\n",
       "      <td>Waste Savings - Kg</td>\n",
       "      <td>186.00</td>\n",
       "    </tr>\n",
       "    <tr>\n",
       "      <th>383</th>\n",
       "      <td>Masks</td>\n",
       "      <td>DECEMBER</td>\n",
       "      <td>Waste Savings - Kg</td>\n",
       "      <td>256.74</td>\n",
       "    </tr>\n",
       "  </tbody>\n",
       "</table>\n",
       "<p>384 rows × 4 columns</p>\n",
       "</div>"
      ],
      "text/plain": [
       "      Item     Months               variable   value\n",
       "0    Gowns    JANUARY  Processing Efficiency    0.71\n",
       "1    Gowns   FEBRUARY  Processing Efficiency    0.95\n",
       "2    Gowns      MARCH  Processing Efficiency    0.70\n",
       "3    Gowns      APRIL  Processing Efficiency    0.75\n",
       "4    Gowns        MAY  Processing Efficiency    0.78\n",
       "..     ...        ...                    ...     ...\n",
       "379  Masks     AUGUST     Waste Savings - Kg  154.45\n",
       "380  Masks  SEPTEMBER     Waste Savings - Kg  184.97\n",
       "381  Masks    OCTOBER     Waste Savings - Kg  193.55\n",
       "382  Masks   NOVEMBER     Waste Savings - Kg  186.00\n",
       "383  Masks   DECEMBER     Waste Savings - Kg  256.74\n",
       "\n",
       "[384 rows x 4 columns]"
      ]
     },
     "execution_count": 15,
     "metadata": {},
     "output_type": "execute_result"
    }
   ],
   "source": [
    "df_bar"
   ]
  },
  {
   "cell_type": "code",
   "execution_count": 16,
   "metadata": {},
   "outputs": [
    {
     "data": {
      "application/vnd.plotly.v1+json": {
       "config": {
        "plotlyServerURL": "https://plot.ly"
       },
       "data": [
        {
         "alignmentgroup": "True",
         "hovertemplate": "Item=Gowns<br>value=%{x}<br>Months=%{y}<extra></extra>",
         "legendgroup": "Gowns",
         "marker": {
          "color": "#e6701d",
          "pattern": {
           "shape": ""
          }
         },
         "name": "Gowns",
         "offsetgroup": "Gowns",
         "orientation": "h",
         "showlegend": true,
         "textposition": "auto",
         "type": "bar",
         "x": [
          0.71,
          0.95,
          0.7,
          0.75,
          0.78,
          0.82,
          0.77,
          0.84,
          0.86,
          0.83,
          0.79,
          0.93
         ],
         "xaxis": "x",
         "y": [
          "JANUARY",
          "FEBRUARY",
          "MARCH",
          "APRIL",
          "MAY",
          "JUNE",
          "JULY",
          "AUGUST",
          "SEPTEMBER",
          "OCTOBER",
          "NOVEMBER",
          "DECEMBER"
         ],
         "yaxis": "y"
        },
        {
         "alignmentgroup": "True",
         "hovertemplate": "Item=Drapes<br>value=%{x}<br>Months=%{y}<extra></extra>",
         "legendgroup": "Drapes",
         "marker": {
          "color": "#3566c1",
          "pattern": {
           "shape": ""
          }
         },
         "name": "Drapes",
         "offsetgroup": "Drapes",
         "orientation": "h",
         "showlegend": true,
         "textposition": "auto",
         "type": "bar",
         "x": [
          0.74,
          0.72,
          0.87,
          0.95,
          0.71,
          0.81,
          0.97,
          0.86,
          0.73,
          0.76,
          0.82,
          0.88
         ],
         "xaxis": "x",
         "y": [
          "JANUARY",
          "FEBRUARY",
          "MARCH",
          "APRIL",
          "MAY",
          "JUNE",
          "JULY",
          "AUGUST",
          "SEPTEMBER",
          "OCTOBER",
          "NOVEMBER",
          "DECEMBER"
         ],
         "yaxis": "y"
        },
        {
         "alignmentgroup": "True",
         "hovertemplate": "Item=Aprons<br>value=%{x}<br>Months=%{y}<extra></extra>",
         "legendgroup": "Aprons",
         "marker": {
          "color": "#ffc61c",
          "pattern": {
           "shape": ""
          }
         },
         "name": "Aprons",
         "offsetgroup": "Aprons",
         "orientation": "h",
         "showlegend": true,
         "textposition": "auto",
         "type": "bar",
         "x": [
          0.75,
          0.98,
          0.98,
          0.74,
          0.97,
          0.9,
          0.72,
          0.77,
          0.91,
          0.86,
          0.73,
          0.79
         ],
         "xaxis": "x",
         "y": [
          "JANUARY",
          "FEBRUARY",
          "MARCH",
          "APRIL",
          "MAY",
          "JUNE",
          "JULY",
          "AUGUST",
          "SEPTEMBER",
          "OCTOBER",
          "NOVEMBER",
          "DECEMBER"
         ],
         "yaxis": "y"
        },
        {
         "alignmentgroup": "True",
         "hovertemplate": "Item=Masks<br>value=%{x}<br>Months=%{y}<extra></extra>",
         "legendgroup": "Masks",
         "marker": {
          "color": "#a7a6a7",
          "pattern": {
           "shape": ""
          }
         },
         "name": "Masks",
         "offsetgroup": "Masks",
         "orientation": "h",
         "showlegend": true,
         "textposition": "auto",
         "type": "bar",
         "x": [
          0.8,
          0.88,
          0.91,
          0.93,
          0.8,
          0.86,
          0.98,
          0.81,
          0.83,
          0.72,
          0.7,
          0.74
         ],
         "xaxis": "x",
         "y": [
          "JANUARY",
          "FEBRUARY",
          "MARCH",
          "APRIL",
          "MAY",
          "JUNE",
          "JULY",
          "AUGUST",
          "SEPTEMBER",
          "OCTOBER",
          "NOVEMBER",
          "DECEMBER"
         ],
         "yaxis": "y"
        }
       ],
       "layout": {
        "barmode": "group",
        "font": {
         "color": "white"
        },
        "legend": {
         "orientation": "h",
         "title": {
          "text": ""
         },
         "tracegroupgap": 0,
         "x": 0.5,
         "xanchor": "center",
         "y": -0.2
        },
        "margin": {
         "t": 55
        },
        "paper_bgcolor": "rgba(0, 0, 0, 0)",
        "plot_bgcolor": "rgba(0, 0, 0, 0)",
        "template": {
         "data": {
          "bar": [
           {
            "error_x": {
             "color": "#2a3f5f"
            },
            "error_y": {
             "color": "#2a3f5f"
            },
            "marker": {
             "line": {
              "color": "#E5ECF6",
              "width": 0.5
             },
             "pattern": {
              "fillmode": "overlay",
              "size": 10,
              "solidity": 0.2
             }
            },
            "type": "bar"
           }
          ],
          "barpolar": [
           {
            "marker": {
             "line": {
              "color": "#E5ECF6",
              "width": 0.5
             },
             "pattern": {
              "fillmode": "overlay",
              "size": 10,
              "solidity": 0.2
             }
            },
            "type": "barpolar"
           }
          ],
          "carpet": [
           {
            "aaxis": {
             "endlinecolor": "#2a3f5f",
             "gridcolor": "white",
             "linecolor": "white",
             "minorgridcolor": "white",
             "startlinecolor": "#2a3f5f"
            },
            "baxis": {
             "endlinecolor": "#2a3f5f",
             "gridcolor": "white",
             "linecolor": "white",
             "minorgridcolor": "white",
             "startlinecolor": "#2a3f5f"
            },
            "type": "carpet"
           }
          ],
          "choropleth": [
           {
            "colorbar": {
             "outlinewidth": 0,
             "ticks": ""
            },
            "type": "choropleth"
           }
          ],
          "contour": [
           {
            "colorbar": {
             "outlinewidth": 0,
             "ticks": ""
            },
            "colorscale": [
             [
              0,
              "#0d0887"
             ],
             [
              0.1111111111111111,
              "#46039f"
             ],
             [
              0.2222222222222222,
              "#7201a8"
             ],
             [
              0.3333333333333333,
              "#9c179e"
             ],
             [
              0.4444444444444444,
              "#bd3786"
             ],
             [
              0.5555555555555556,
              "#d8576b"
             ],
             [
              0.6666666666666666,
              "#ed7953"
             ],
             [
              0.7777777777777778,
              "#fb9f3a"
             ],
             [
              0.8888888888888888,
              "#fdca26"
             ],
             [
              1,
              "#f0f921"
             ]
            ],
            "type": "contour"
           }
          ],
          "contourcarpet": [
           {
            "colorbar": {
             "outlinewidth": 0,
             "ticks": ""
            },
            "type": "contourcarpet"
           }
          ],
          "heatmap": [
           {
            "colorbar": {
             "outlinewidth": 0,
             "ticks": ""
            },
            "colorscale": [
             [
              0,
              "#0d0887"
             ],
             [
              0.1111111111111111,
              "#46039f"
             ],
             [
              0.2222222222222222,
              "#7201a8"
             ],
             [
              0.3333333333333333,
              "#9c179e"
             ],
             [
              0.4444444444444444,
              "#bd3786"
             ],
             [
              0.5555555555555556,
              "#d8576b"
             ],
             [
              0.6666666666666666,
              "#ed7953"
             ],
             [
              0.7777777777777778,
              "#fb9f3a"
             ],
             [
              0.8888888888888888,
              "#fdca26"
             ],
             [
              1,
              "#f0f921"
             ]
            ],
            "type": "heatmap"
           }
          ],
          "heatmapgl": [
           {
            "colorbar": {
             "outlinewidth": 0,
             "ticks": ""
            },
            "colorscale": [
             [
              0,
              "#0d0887"
             ],
             [
              0.1111111111111111,
              "#46039f"
             ],
             [
              0.2222222222222222,
              "#7201a8"
             ],
             [
              0.3333333333333333,
              "#9c179e"
             ],
             [
              0.4444444444444444,
              "#bd3786"
             ],
             [
              0.5555555555555556,
              "#d8576b"
             ],
             [
              0.6666666666666666,
              "#ed7953"
             ],
             [
              0.7777777777777778,
              "#fb9f3a"
             ],
             [
              0.8888888888888888,
              "#fdca26"
             ],
             [
              1,
              "#f0f921"
             ]
            ],
            "type": "heatmapgl"
           }
          ],
          "histogram": [
           {
            "marker": {
             "pattern": {
              "fillmode": "overlay",
              "size": 10,
              "solidity": 0.2
             }
            },
            "type": "histogram"
           }
          ],
          "histogram2d": [
           {
            "colorbar": {
             "outlinewidth": 0,
             "ticks": ""
            },
            "colorscale": [
             [
              0,
              "#0d0887"
             ],
             [
              0.1111111111111111,
              "#46039f"
             ],
             [
              0.2222222222222222,
              "#7201a8"
             ],
             [
              0.3333333333333333,
              "#9c179e"
             ],
             [
              0.4444444444444444,
              "#bd3786"
             ],
             [
              0.5555555555555556,
              "#d8576b"
             ],
             [
              0.6666666666666666,
              "#ed7953"
             ],
             [
              0.7777777777777778,
              "#fb9f3a"
             ],
             [
              0.8888888888888888,
              "#fdca26"
             ],
             [
              1,
              "#f0f921"
             ]
            ],
            "type": "histogram2d"
           }
          ],
          "histogram2dcontour": [
           {
            "colorbar": {
             "outlinewidth": 0,
             "ticks": ""
            },
            "colorscale": [
             [
              0,
              "#0d0887"
             ],
             [
              0.1111111111111111,
              "#46039f"
             ],
             [
              0.2222222222222222,
              "#7201a8"
             ],
             [
              0.3333333333333333,
              "#9c179e"
             ],
             [
              0.4444444444444444,
              "#bd3786"
             ],
             [
              0.5555555555555556,
              "#d8576b"
             ],
             [
              0.6666666666666666,
              "#ed7953"
             ],
             [
              0.7777777777777778,
              "#fb9f3a"
             ],
             [
              0.8888888888888888,
              "#fdca26"
             ],
             [
              1,
              "#f0f921"
             ]
            ],
            "type": "histogram2dcontour"
           }
          ],
          "mesh3d": [
           {
            "colorbar": {
             "outlinewidth": 0,
             "ticks": ""
            },
            "type": "mesh3d"
           }
          ],
          "parcoords": [
           {
            "line": {
             "colorbar": {
              "outlinewidth": 0,
              "ticks": ""
             }
            },
            "type": "parcoords"
           }
          ],
          "pie": [
           {
            "automargin": true,
            "type": "pie"
           }
          ],
          "scatter": [
           {
            "fillpattern": {
             "fillmode": "overlay",
             "size": 10,
             "solidity": 0.2
            },
            "type": "scatter"
           }
          ],
          "scatter3d": [
           {
            "line": {
             "colorbar": {
              "outlinewidth": 0,
              "ticks": ""
             }
            },
            "marker": {
             "colorbar": {
              "outlinewidth": 0,
              "ticks": ""
             }
            },
            "type": "scatter3d"
           }
          ],
          "scattercarpet": [
           {
            "marker": {
             "colorbar": {
              "outlinewidth": 0,
              "ticks": ""
             }
            },
            "type": "scattercarpet"
           }
          ],
          "scattergeo": [
           {
            "marker": {
             "colorbar": {
              "outlinewidth": 0,
              "ticks": ""
             }
            },
            "type": "scattergeo"
           }
          ],
          "scattergl": [
           {
            "marker": {
             "colorbar": {
              "outlinewidth": 0,
              "ticks": ""
             }
            },
            "type": "scattergl"
           }
          ],
          "scattermapbox": [
           {
            "marker": {
             "colorbar": {
              "outlinewidth": 0,
              "ticks": ""
             }
            },
            "type": "scattermapbox"
           }
          ],
          "scatterpolar": [
           {
            "marker": {
             "colorbar": {
              "outlinewidth": 0,
              "ticks": ""
             }
            },
            "type": "scatterpolar"
           }
          ],
          "scatterpolargl": [
           {
            "marker": {
             "colorbar": {
              "outlinewidth": 0,
              "ticks": ""
             }
            },
            "type": "scatterpolargl"
           }
          ],
          "scatterternary": [
           {
            "marker": {
             "colorbar": {
              "outlinewidth": 0,
              "ticks": ""
             }
            },
            "type": "scatterternary"
           }
          ],
          "surface": [
           {
            "colorbar": {
             "outlinewidth": 0,
             "ticks": ""
            },
            "colorscale": [
             [
              0,
              "#0d0887"
             ],
             [
              0.1111111111111111,
              "#46039f"
             ],
             [
              0.2222222222222222,
              "#7201a8"
             ],
             [
              0.3333333333333333,
              "#9c179e"
             ],
             [
              0.4444444444444444,
              "#bd3786"
             ],
             [
              0.5555555555555556,
              "#d8576b"
             ],
             [
              0.6666666666666666,
              "#ed7953"
             ],
             [
              0.7777777777777778,
              "#fb9f3a"
             ],
             [
              0.8888888888888888,
              "#fdca26"
             ],
             [
              1,
              "#f0f921"
             ]
            ],
            "type": "surface"
           }
          ],
          "table": [
           {
            "cells": {
             "fill": {
              "color": "#EBF0F8"
             },
             "line": {
              "color": "white"
             }
            },
            "header": {
             "fill": {
              "color": "#C8D4E3"
             },
             "line": {
              "color": "white"
             }
            },
            "type": "table"
           }
          ]
         },
         "layout": {
          "annotationdefaults": {
           "arrowcolor": "#2a3f5f",
           "arrowhead": 0,
           "arrowwidth": 1
          },
          "autotypenumbers": "strict",
          "coloraxis": {
           "colorbar": {
            "outlinewidth": 0,
            "ticks": ""
           }
          },
          "colorscale": {
           "diverging": [
            [
             0,
             "#8e0152"
            ],
            [
             0.1,
             "#c51b7d"
            ],
            [
             0.2,
             "#de77ae"
            ],
            [
             0.3,
             "#f1b6da"
            ],
            [
             0.4,
             "#fde0ef"
            ],
            [
             0.5,
             "#f7f7f7"
            ],
            [
             0.6,
             "#e6f5d0"
            ],
            [
             0.7,
             "#b8e186"
            ],
            [
             0.8,
             "#7fbc41"
            ],
            [
             0.9,
             "#4d9221"
            ],
            [
             1,
             "#276419"
            ]
           ],
           "sequential": [
            [
             0,
             "#0d0887"
            ],
            [
             0.1111111111111111,
             "#46039f"
            ],
            [
             0.2222222222222222,
             "#7201a8"
            ],
            [
             0.3333333333333333,
             "#9c179e"
            ],
            [
             0.4444444444444444,
             "#bd3786"
            ],
            [
             0.5555555555555556,
             "#d8576b"
            ],
            [
             0.6666666666666666,
             "#ed7953"
            ],
            [
             0.7777777777777778,
             "#fb9f3a"
            ],
            [
             0.8888888888888888,
             "#fdca26"
            ],
            [
             1,
             "#f0f921"
            ]
           ],
           "sequentialminus": [
            [
             0,
             "#0d0887"
            ],
            [
             0.1111111111111111,
             "#46039f"
            ],
            [
             0.2222222222222222,
             "#7201a8"
            ],
            [
             0.3333333333333333,
             "#9c179e"
            ],
            [
             0.4444444444444444,
             "#bd3786"
            ],
            [
             0.5555555555555556,
             "#d8576b"
            ],
            [
             0.6666666666666666,
             "#ed7953"
            ],
            [
             0.7777777777777778,
             "#fb9f3a"
            ],
            [
             0.8888888888888888,
             "#fdca26"
            ],
            [
             1,
             "#f0f921"
            ]
           ]
          },
          "colorway": [
           "#636efa",
           "#EF553B",
           "#00cc96",
           "#ab63fa",
           "#FFA15A",
           "#19d3f3",
           "#FF6692",
           "#B6E880",
           "#FF97FF",
           "#FECB52"
          ],
          "font": {
           "color": "#2a3f5f"
          },
          "geo": {
           "bgcolor": "white",
           "lakecolor": "white",
           "landcolor": "#E5ECF6",
           "showlakes": true,
           "showland": true,
           "subunitcolor": "white"
          },
          "hoverlabel": {
           "align": "left"
          },
          "hovermode": "closest",
          "mapbox": {
           "style": "light"
          },
          "paper_bgcolor": "white",
          "plot_bgcolor": "#E5ECF6",
          "polar": {
           "angularaxis": {
            "gridcolor": "white",
            "linecolor": "white",
            "ticks": ""
           },
           "bgcolor": "#E5ECF6",
           "radialaxis": {
            "gridcolor": "white",
            "linecolor": "white",
            "ticks": ""
           }
          },
          "scene": {
           "xaxis": {
            "backgroundcolor": "#E5ECF6",
            "gridcolor": "white",
            "gridwidth": 2,
            "linecolor": "white",
            "showbackground": true,
            "ticks": "",
            "zerolinecolor": "white"
           },
           "yaxis": {
            "backgroundcolor": "#E5ECF6",
            "gridcolor": "white",
            "gridwidth": 2,
            "linecolor": "white",
            "showbackground": true,
            "ticks": "",
            "zerolinecolor": "white"
           },
           "zaxis": {
            "backgroundcolor": "#E5ECF6",
            "gridcolor": "white",
            "gridwidth": 2,
            "linecolor": "white",
            "showbackground": true,
            "ticks": "",
            "zerolinecolor": "white"
           }
          },
          "shapedefaults": {
           "line": {
            "color": "#2a3f5f"
           }
          },
          "ternary": {
           "aaxis": {
            "gridcolor": "white",
            "linecolor": "white",
            "ticks": ""
           },
           "baxis": {
            "gridcolor": "white",
            "linecolor": "white",
            "ticks": ""
           },
           "bgcolor": "#E5ECF6",
           "caxis": {
            "gridcolor": "white",
            "linecolor": "white",
            "ticks": ""
           }
          },
          "title": {
           "x": 0.05
          },
          "xaxis": {
           "automargin": true,
           "gridcolor": "white",
           "linecolor": "white",
           "ticks": "",
           "title": {
            "standoff": 15
           },
           "zerolinecolor": "white",
           "zerolinewidth": 2
          },
          "yaxis": {
           "automargin": true,
           "gridcolor": "white",
           "linecolor": "white",
           "ticks": "",
           "title": {
            "standoff": 15
           },
           "zerolinecolor": "white",
           "zerolinewidth": 2
          }
         }
        },
        "title": {
         "font": {
          "size": 25
         },
         "text": "<b>Monthly {variable} per item<b>",
         "x": 0.5,
         "xanchor": "center"
        },
        "xaxis": {
         "anchor": "y",
         "domain": [
          0,
          1
         ],
         "gridcolor": "grey",
         "showgrid": true,
         "tickcolor": "rgba(0, 0, 0, 0)",
         "ticklen": 5,
         "ticks": "outside",
         "title": {
          "text": "<b>PROCESSING EFFICIENCY PER ITEM<b>"
         }
        },
        "yaxis": {
         "anchor": "x",
         "domain": [
          0,
          1
         ],
         "gridcolor": "grey",
         "showgrid": false,
         "tickcolor": "rgba(0, 0, 0, 0)",
         "ticklen": 5,
         "ticks": "outside",
         "title": {
          "text": "<b>MONTHS<b>"
         }
        }
       }
      }
     },
     "metadata": {},
     "output_type": "display_data"
    }
   ],
   "source": [
    "fig = px.bar(\n",
    "        df_bar[df_bar['variable'] == 'Processing Efficiency'], \n",
    "        x = 'value', \n",
    "        y = 'Months', \n",
    "        color = 'Item',\n",
    "         barmode = 'group', \n",
    "         orientation = 'h',\n",
    "         color_discrete_sequence = ['#e6701d', '#3566c1', '#ffc61c', '#a7a6a7'],\n",
    "         title = \"<b>Monthly {variable} per item<b>\"\n",
    "         )\n",
    "fig.update_layout(\n",
    "        title = dict(font_size = 25, x = 0.5, xanchor = 'center'),\n",
    "        margin = dict(t = 55),\n",
    "        plot_bgcolor = 'rgba(0, 0, 0, 0)', \n",
    "        paper_bgcolor = 'rgba(0, 0, 0, 0)', \n",
    "        font = dict(color = 'white'), \n",
    "        legend = dict(orientation = 'h', title = '', x = 0.5, xanchor = 'center', y = -0.2))\n",
    "fig.update_xaxes(title = \"<b>PROCESSING EFFICIENCY PER ITEM<b>\", showgrid = True, gridcolor = 'grey', ticks = 'outside', ticklen = 5, tickcolor = 'rgba(0, 0, 0, 0)')\n",
    "fig.update_yaxes(title = \"<b>MONTHS<b>\", gridcolor = 'grey', showgrid = False, ticks = 'outside', ticklen = 5, tickcolor = 'rgba(0, 0, 0, 0)')\n",
    "fig.show()"
   ]
  },
  {
   "cell_type": "code",
   "execution_count": 1,
   "metadata": {},
   "outputs": [
    {
     "name": "stdout",
     "output_type": "stream",
     "text": [
      "Dash app running on http://127.0.0.1:8050/\n"
     ]
    }
   ],
   "source": [
    "from jupyter_dash import JupyterDash\n",
    "from dash import dcc\n",
    "from dash import html\n",
    "from dash.exceptions import PreventUpdate\n",
    "from dash import Input, Output\n",
    "import pandas as pd\n",
    "import plotly.graph_objects as go\n",
    "import plotly.express as px\n",
    "def blank_fig():\n",
    "    fig = go.Figure(go.Scatter(x=[], y = []))\n",
    "    fig.update_layout(template = None,\n",
    "                     plot_bgcolor=\"rgba( 0, 0, 0, 0)\",\n",
    "                     paper_bgcolor=\"rgba( 0, 0, 0, 0)\",)\n",
    "    fig.update_xaxes(showgrid = False, showticklabels = False, zeroline=False)\n",
    "    fig.update_yaxes(showgrid = False, showticklabels = False, zeroline=False)\n",
    "\n",
    "    return fig\n",
    "\n",
    "df = pd.read_csv('dummy_data.csv')\n",
    "\n",
    "\n",
    "month_dict = {\"JANUARY\": 1,\n",
    "              \"FEBRUARY\": 2,\n",
    "              \"MARCH\": 3,\n",
    "              \"APRIL\": 4,\n",
    "              \"MAY\": 5,\n",
    "              \"JUNE\": 6,\n",
    "              \"JULY\": 7,\n",
    "              \"AUGUST\": 8,\n",
    "              \"SEPTEMBER\": 9,\n",
    "              \"OCTOBER\": 10,\n",
    "              \"NOVEMBER\": 11,\n",
    "              \"DECEMBER\": 12}\n",
    "\n",
    "app = JupyterDash(__name__)\n",
    "\n",
    "server = app.server\n",
    "\n",
    "app.layout = html.Div([\n",
    "    html.Div([\n",
    "        html.Div([\n",
    "            html.H1(\n",
    "                'Circular Medical Textiles Dashboard',\n",
    "                id = 'title'\n",
    "            )\n",
    "        ], id = 'title-area'),\n",
    "        html.Div([\n",
    "            html.Div([\n",
    "                html.Div([\n",
    "                    html.Div(dcc.Dropdown(id = 'g1dd-a', \n",
    "                    options = list(df.columns[6:9]), \n",
    "                    multi=True, \n",
    "                    clearable = False,\n",
    "                    value = list(df.columns[6:9])), className = 'hlf')\n",
    "                ], className = 'dropdown-area', id = 'dd-area1'),\n",
    "            html.Div([\n",
    "                dcc.Graph(id = 'graph1', figure = blank_fig())\n",
    "            ], id = 'g1', className = 'graph-container'),\n",
    "            ], id = 'q1', className = 'container-a1'),\n",
    "            \n",
    "\n",
    "            html.Div([\n",
    "                html.Div([\n",
    "                    html.Div(dcc.Dropdown(id = 'g2dd-a', options = list(df.columns[1:9]), clearable = False, value = list(df.columns[1:9])[0]), className = 'thrd'),\n",
    "                    html.Div(dcc.Dropdown(id = 'g2dd-b', options = list(df['Months'].unique()), multi=True, clearable = False, value = list(df['Months'].unique())), className = 'thrd'),\n",
    "                    html.Div(dcc.Dropdown(id = 'g2dd-c', options = list(df['Item'].unique()), multi=True, clearable=False, value = list(df['Item'].unique())), className = 'thrd')\n",
    "                ], className = 'dropdown-area', id = 'dd-area2'),\n",
    "                html.Div([\n",
    "                dcc.Graph(id = 'graph2', figure = blank_fig())\n",
    "                ], id = 'g2', className = 'graph-container'),\n",
    "\n",
    "            ], id = 'h2', className = 'container-a2'),\n",
    "            html.Div([\n",
    "                html.Div([\n",
    "                    html.Div(dcc.Dropdown(\n",
    "                        id = 'g3dd-a',\n",
    "                        options = list(df.columns[1:9]),\n",
    "                        clearable = False,\n",
    "                        value = list(df.columns[1:9])[0],\n",
    "                        multi = False\n",
    "                    ), className = 'g3-dd'),\n",
    "                    html.Div(dcc.Dropdown(\n",
    "                        id = 'g3dd-b',\n",
    "                        options = list(df['Item'].unique()), \n",
    "                        multi=True, \n",
    "                        clearable=False, \n",
    "                        value = list(df['Item'].unique())\n",
    "                    ), className = 'g3-dd'),\n",
    "                    html.Img(src = app.get_asset_url('logo.jpg'), className = 'logo')\n",
    "                    \n",
    "                ], className = 'v-dropdown-area'),\n",
    "                html.Div([\n",
    "                dcc.Graph(id = 'graph3', figure = blank_fig())\n",
    "                ], id = 'g3', className = 'graph-container'),\n",
    "            ], id = 'q3', className = 'container-b'),\n",
    "\n",
    "        ], id = 'main')\n",
    "    ], id = 'dashboard')\n",
    "], id = 'layout')\n",
    "\n",
    "\n",
    "@app.callback(\n",
    "    Output('graph1', 'figure'),\n",
    "    Input('g1dd-a', 'value')\n",
    ")\n",
    "def update_g1(variables):\n",
    "    if len(variables) == 0:\n",
    "        raise PreventUpdate\n",
    "    dff = df[['Months', 'Carbon Savings - Kg', 'Water Savings - Litres', 'Waste Savings - Kg']]\n",
    "    dff = dff.groupby('Months', as_index = False).sum()\n",
    "    dff['month_numeric'] = dff['Months'].map(month_dict)\n",
    "    dff = dff.sort_values('month_numeric')\n",
    "    dff = dff.melt(id_vars = 'Months', value_vars=list(dff.columns[1:]))\n",
    "    dff = dff[dff['variable'].isin(variables)]\n",
    "    \n",
    "    fig = px.line(\n",
    "        dff, \n",
    "        x = 'Months', \n",
    "        y = 'value', \n",
    "        color = 'variable', \n",
    "        color_discrete_sequence = ['#e6701d', '#3566c1', '#ffc61c', '#a7a6a7'],\n",
    "        title = \"<b>Savings trend over time<b>\"\n",
    "        )\n",
    "    fig.update_layout(\n",
    "        title = dict(font_size = 25, x = 0.5, xanchor = 'center'),\n",
    "        margin = dict(t = 55),\n",
    "        plot_bgcolor = 'rgba(0, 0, 0, 0)', \n",
    "        paper_bgcolor = 'rgba(0, 0, 0, 0)', \n",
    "        font = dict(color = 'white'), \n",
    "        legend = dict(orientation = 'h', title = '', x = 0.5, xanchor = 'center', y = -0.2))\n",
    "    fig.update_xaxes(title = \"<b>MONTHS<b>\", showgrid = False, ticks = 'outside', ticklen = 5, tickcolor = 'rgba(0, 0, 0, 0)')\n",
    "    fig.update_yaxes(title = \"<b>SAVINGS<b>\", gridcolor = 'grey', ticks = 'outside', ticklen = 5, tickcolor = 'rgba(0, 0, 0, 0)')\n",
    "    return fig\n",
    "\n",
    "\n",
    "@app.callback(\n",
    "    Output('graph2', 'figure'),\n",
    "    [Input('g2dd-a', 'value'),\n",
    "     Input('g2dd-b', 'value'),\n",
    "     Input('g2dd-c', 'value')]\n",
    ")\n",
    "def update_g3(variable, months, items):\n",
    "    if len(months) == 0 or len('items') == 0:\n",
    "        raise PreventUpdate\n",
    "    df_bar = df.melt(id_vars = ['Item', 'Months'], value_vars=df.columns[1:-1])\n",
    "    df_bar = df_bar[df_bar['variable'] == variable]\n",
    "    df_bar = df_bar[df_bar['Months'].isin(months)]\n",
    "    df_bar = df_bar[df_bar['Item'].isin(items)]\n",
    "    fig = px.bar(\n",
    "        df_bar, \n",
    "        x = 'value', \n",
    "        y = 'Months', \n",
    "        color = 'Item',\n",
    "         barmode = 'group', \n",
    "         orientation = 'h',\n",
    "         color_discrete_sequence = ['#e6701d', '#3566c1', '#ffc61c', '#a7a6a7'],\n",
    "         title = f\"<b>Monthly {variable} per item<b>\"\n",
    "         )\n",
    "    fig.update_layout(\n",
    "            title = dict(font_size = 25, x = 0.5, xanchor = 'center'),\n",
    "            margin = dict(t = 55, b = 10),\n",
    "            plot_bgcolor = 'rgba(0, 0, 0, 0)', \n",
    "            paper_bgcolor = 'rgba(0, 0, 0, 0)', \n",
    "            font = dict(color = 'white'), \n",
    "            legend = dict(orientation = 'h', title = '', x = 0.5, xanchor = 'center', y = -0.099))\n",
    "    fig.update_xaxes(title = \"<b>PROCESSING EFFICIENCY PER ITEM<b>\", showgrid = True, gridcolor = 'grey', ticks = 'outside', ticklen = 5, tickcolor = 'rgba(0, 0, 0, 0)')\n",
    "    fig.update_yaxes(title = \"<b>MONTHS<b>\", gridcolor = 'grey', showgrid = False, ticks = 'outside', ticklen = 5, tickcolor = 'rgba(0, 0, 0, 0)')\n",
    "    return fig\n",
    "\n",
    "\n",
    "\n",
    "@app.callback(\n",
    "    Output('graph3', 'figure'),\n",
    "    [Input('g3dd-a', 'value'),\n",
    "     Input('g3dd-b', 'value')]\n",
    ")\n",
    "def update_g3(variable, items):\n",
    "    if len(items) == 0:\n",
    "        raise PreventUpdate\n",
    "    df_donut = df.groupby('Item', as_index = False).sum()\n",
    "    df_donut = df_donut[df_donut['Item'].isin(items)]\n",
    "    fig = px.pie(\n",
    "        df_donut, \n",
    "        names= 'Item', \n",
    "        values = variable, \n",
    "        hole = 0.5, \n",
    "        color_discrete_sequence = ['#e6701d', '#3566c1', '#ffc61c', '#a7a6a7'],\n",
    "        title = \"<b>Sum of Carbon Savings / item<b>\")\n",
    "    fig.update_layout(\n",
    "            title = dict(font_size = 25, x = 0.5, xanchor = 'center'),\n",
    "            margin = dict(t = 55, b = 30),\n",
    "            plot_bgcolor = 'rgba(0, 0, 0, 0)', \n",
    "            paper_bgcolor = 'rgba(0, 0, 0, 0)', \n",
    "            font = dict(color = 'white'), \n",
    "            legend = dict(orientation = 'h', title = '', x = 0.5, xanchor = 'center', y = -0.1))\n",
    "    fig.update_traces(textposition='inside', textinfo='percent+label')\n",
    "    return fig\n",
    "\n",
    "\n",
    "app.run_server(mode=\"external\", debug = True)"
   ]
  }
 ],
 "metadata": {
  "interpreter": {
   "hash": "916dbcbb3f70747c44a77c7bcd40155683ae19c65e1c03b4aa3499c5328201f1"
  },
  "kernelspec": {
   "display_name": "Python 3.8.10 64-bit",
   "language": "python",
   "name": "python3"
  },
  "language_info": {
   "codemirror_mode": {
    "name": "ipython",
    "version": 3
   },
   "file_extension": ".py",
   "mimetype": "text/x-python",
   "name": "python",
   "nbconvert_exporter": "python",
   "pygments_lexer": "ipython3",
   "version": "3.8.10"
  },
  "orig_nbformat": 4
 },
 "nbformat": 4,
 "nbformat_minor": 2
}
